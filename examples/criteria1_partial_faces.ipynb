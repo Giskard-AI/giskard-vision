{
 "cells": [
  {
   "cell_type": "code",
   "execution_count": 1,
   "metadata": {
    "collapsed": false,
    "jupyter": {
     "outputs_hidden": false
    }
   },
   "outputs": [],
   "source": [
    "from face_alignment import FaceAlignment, LandmarksType\n",
    "\n",
    "from loreal_poc.dataloaders.loaders import DataLoader300W\n",
    "from loreal_poc.dataloaders.wrappers import CroppedDataLoader, CachedDataLoader\n",
    "from loreal_poc.marks.facial_parts import FacialParts\n",
    "from loreal_poc.visualisation.draw import draw_marks\n",
    "from loreal_poc.tests.performance import NMEMean\n",
    "from loreal_poc.models.wrappers import FaceAlignmentWrapper, OpenCVWrapper\n",
    "from loreal_poc.tests.base import Test\n",
    "import numpy as np"
   ]
  },
  {
   "cell_type": "markdown",
   "metadata": {},
   "source": [
    "### Model and dataloader"
   ]
  },
  {
   "cell_type": "code",
   "execution_count": 2,
   "metadata": {},
   "outputs": [],
   "source": [
    "# model = FaceAlignmentWrapper(model=FaceAlignment(LandmarksType.TWO_D, device=device, flip_input=False))\n",
    "model = OpenCVWrapper()\n",
    "ds = DataLoader300W(dir_path=\"300W/sample\")"
   ]
  },
  {
   "cell_type": "markdown",
   "metadata": {},
   "source": [
    "## Model predictions on cropped image"
   ]
  },
  {
   "cell_type": "code",
   "execution_count": 3,
   "metadata": {},
   "outputs": [
    {
     "data": {
      "text/html": [
       "\n",
       "               <h4><span style=\"color:green;\">✓</span> Test \"NME_mean\" succeeded</h4>\n",
       "               <p>Description: Mean of normalised mean Euclidean distances across images</p>\n",
       "               <p>Metric: <b>0.0383</b> (threshold = 1)</p>\n",
       "               \n",
       "               <p>Prediction time: 0.34 s.</p>\n",
       "               "
      ],
      "text/plain": [
       "\n",
       "               Test \"NME_mean\" succeeded\n",
       "               Description: Mean of normalised mean Euclidean distances across images\n",
       "               Metric: 0.0383 (threshold = 1)\n",
       "               \n",
       "               Prediction time: 0.34 s.\n",
       "               "
      ]
     },
     "execution_count": 3,
     "metadata": {},
     "output_type": "execute_result"
    }
   ],
   "source": [
    "facial_part = FacialParts.RIGHT_HALF.value\n",
    "test_on_original_ds = Test(metric=NMEMean, threshold=1).run(model, ds, facial_part=facial_part)\n",
    "test_on_original_ds"
   ]
  },
  {
   "cell_type": "markdown",
   "metadata": {},
   "source": [
    "## NME test on all cropped images\n",
    "\n"
   ]
  },
  {
   "cell_type": "markdown",
   "metadata": {},
   "source": [
    "### rel_margin range [0.01, 0.1]"
   ]
  },
  {
   "cell_type": "code",
   "execution_count": 4,
   "metadata": {},
   "outputs": [
    {
     "ename": "error",
     "evalue": "OpenCV(4.8.1) /Users/xperience/GHA-OpenCV-Python/_work/opencv-python/opencv-python/opencv/modules/core/src/matrix.cpp:1193: error: (-15:Bad number of channels) The total width is not divisible by the new number of channels in function 'reshape'\n",
     "output_type": "error",
     "traceback": [
      "\u001b[0;31m---------------------------------------------------------------------------\u001b[0m",
      "\u001b[0;31merror\u001b[0m                                     Traceback (most recent call last)",
      "Cell \u001b[0;32mIn[4], line 5\u001b[0m\n\u001b[1;32m      3\u001b[0m metrics, predictions \u001b[38;5;241m=\u001b[39m [], []\n\u001b[1;32m      4\u001b[0m \u001b[38;5;28;01mfor\u001b[39;00m rel_margin \u001b[38;5;129;01min\u001b[39;00m rel_margins:\n\u001b[0;32m----> 5\u001b[0m     _test_result \u001b[38;5;241m=\u001b[39m \u001b[43mTest\u001b[49m\u001b[43m(\u001b[49m\u001b[43mmetric\u001b[49m\u001b[38;5;241;43m=\u001b[39;49m\u001b[43mNMEMean\u001b[49m\u001b[43m,\u001b[49m\u001b[43m \u001b[49m\u001b[43mthreshold\u001b[49m\u001b[38;5;241;43m=\u001b[39;49m\u001b[38;5;241;43m1\u001b[39;49m\u001b[43m)\u001b[49m\u001b[38;5;241;43m.\u001b[39;49m\u001b[43mrun\u001b[49m\u001b[43m(\u001b[49m\n\u001b[1;32m      6\u001b[0m \u001b[43m        \u001b[49m\u001b[43mmodel\u001b[49m\u001b[43m,\u001b[49m\u001b[43m \u001b[49m\u001b[43mCroppedDataLoader\u001b[49m\u001b[43m(\u001b[49m\u001b[43mds\u001b[49m\u001b[43m,\u001b[49m\u001b[43m \u001b[49m\u001b[43mpart\u001b[49m\u001b[38;5;241;43m=\u001b[39;49m\u001b[43mfacial_part\u001b[49m\u001b[43m,\u001b[49m\u001b[43m \u001b[49m\u001b[43mmargins\u001b[49m\u001b[38;5;241;43m=\u001b[39;49m\u001b[43mrel_margin\u001b[49m\u001b[43m)\u001b[49m\u001b[43m,\u001b[49m\u001b[43m \u001b[49m\u001b[43mfacial_part\u001b[49m\u001b[38;5;241;43m=\u001b[39;49m\u001b[43mfacial_part\u001b[49m\n\u001b[1;32m      7\u001b[0m \u001b[43m    \u001b[49m\u001b[43m)\u001b[49m\n\u001b[1;32m      8\u001b[0m     metrics\u001b[38;5;241m.\u001b[39mappend(_test_result\u001b[38;5;241m.\u001b[39mmetric_value)\n\u001b[1;32m      9\u001b[0m     predictions\u001b[38;5;241m.\u001b[39mappend(_test_result\u001b[38;5;241m.\u001b[39mprediction_results[\u001b[38;5;241m0\u001b[39m]\u001b[38;5;241m.\u001b[39mprediction)\n",
      "File \u001b[0;32m~/Work/loreal-poc/loreal_poc/tests/base.py:110\u001b[0m, in \u001b[0;36mTest.run\u001b[0;34m(self, model, dataloader, facial_part)\u001b[0m\n\u001b[1;32m    103\u001b[0m \u001b[38;5;28;01mdef\u001b[39;00m \u001b[38;5;21mrun\u001b[39m(\n\u001b[1;32m    104\u001b[0m     \u001b[38;5;28mself\u001b[39m,\n\u001b[1;32m    105\u001b[0m     model: FaceLandmarksModelBase,\n\u001b[1;32m    106\u001b[0m     dataloader: DataIteratorBase,\n\u001b[1;32m    107\u001b[0m     facial_part: FacialPart \u001b[38;5;241m=\u001b[39m FacialParts\u001b[38;5;241m.\u001b[39mENTIRE\u001b[38;5;241m.\u001b[39mvalue,\n\u001b[1;32m    108\u001b[0m ) \u001b[38;5;241m-\u001b[39m\u001b[38;5;241m>\u001b[39m TestResult:\n\u001b[1;32m    109\u001b[0m     ground_truth \u001b[38;5;241m=\u001b[39m dataloader\u001b[38;5;241m.\u001b[39mall_marks\n\u001b[0;32m--> 110\u001b[0m     prediction_result \u001b[38;5;241m=\u001b[39m \u001b[43mmodel\u001b[49m\u001b[38;5;241;43m.\u001b[39;49m\u001b[43mpredict\u001b[49m\u001b[43m(\u001b[49m\u001b[43mdataloader\u001b[49m\u001b[43m,\u001b[49m\u001b[43m \u001b[49m\u001b[43mfacial_part\u001b[49m\u001b[38;5;241;43m=\u001b[39;49m\u001b[43mfacial_part\u001b[49m\u001b[43m)\u001b[49m\n\u001b[1;32m    111\u001b[0m     metric_value \u001b[38;5;241m=\u001b[39m \u001b[38;5;28mself\u001b[39m\u001b[38;5;241m.\u001b[39mmetric\u001b[38;5;241m.\u001b[39mget(prediction_result, ground_truth)\n\u001b[1;32m    112\u001b[0m     \u001b[38;5;28;01mreturn\u001b[39;00m TestResult(\n\u001b[1;32m    113\u001b[0m         test_name\u001b[38;5;241m=\u001b[39m\u001b[38;5;28mself\u001b[39m\u001b[38;5;241m.\u001b[39m\u001b[38;5;18m__class__\u001b[39m\u001b[38;5;241m.\u001b[39m\u001b[38;5;18m__name__\u001b[39m,\n\u001b[1;32m    114\u001b[0m         description\u001b[38;5;241m=\u001b[39m\u001b[38;5;28mself\u001b[39m\u001b[38;5;241m.\u001b[39mmetric\u001b[38;5;241m.\u001b[39mdescription,\n\u001b[0;32m   (...)\u001b[0m\n\u001b[1;32m    123\u001b[0m         dataloader_name\u001b[38;5;241m=\u001b[39mdataloader\u001b[38;5;241m.\u001b[39mname,\n\u001b[1;32m    124\u001b[0m     )\n",
      "File \u001b[0;32m~/Work/loreal-poc/loreal_poc/models/base.py:94\u001b[0m, in \u001b[0;36mFaceLandmarksModelBase.predict\u001b[0;34m(self, dataloader, facial_part)\u001b[0m\n\u001b[1;32m     90\u001b[0m prediction_fail_rate \u001b[38;5;241m=\u001b[39m \u001b[38;5;241m0\u001b[39m\n\u001b[1;32m     92\u001b[0m \u001b[38;5;28;01mfor\u001b[39;00m images, _, _ \u001b[38;5;129;01min\u001b[39;00m dataloader:\n\u001b[1;32m     93\u001b[0m     \u001b[38;5;66;03m# try:\u001b[39;00m\n\u001b[0;32m---> 94\u001b[0m     batch_prediction \u001b[38;5;241m=\u001b[39m \u001b[38;5;28;43mself\u001b[39;49m\u001b[38;5;241;43m.\u001b[39;49m\u001b[43mpredict_batch\u001b[49m\u001b[43m(\u001b[49m\u001b[43mimages\u001b[49m\u001b[43m)\u001b[49m\n\u001b[1;32m     95\u001b[0m     \u001b[38;5;66;03m# except Exception:\u001b[39;00m\n\u001b[1;32m     96\u001b[0m     \u001b[38;5;66;03m#     # TODO(Bazire): Add some log here\u001b[39;00m\n\u001b[1;32m     97\u001b[0m     \u001b[38;5;66;03m#     batch_prediction = None\u001b[39;00m\n\u001b[1;32m     99\u001b[0m     batch_prediction \u001b[38;5;241m=\u001b[39m \u001b[38;5;28mself\u001b[39m\u001b[38;5;241m.\u001b[39m_postprocessing(batch_prediction, dataloader\u001b[38;5;241m.\u001b[39mbatch_size, facial_part)\n",
      "File \u001b[0;32m~/Work/loreal-poc/loreal_poc/models/base.py:54\u001b[0m, in \u001b[0;36mFaceLandmarksModelBase.predict_batch\u001b[0;34m(self, images)\u001b[0m\n\u001b[1;32m     48\u001b[0m \u001b[38;5;28;01mdef\u001b[39;00m \u001b[38;5;21mpredict_batch\u001b[39m(\u001b[38;5;28mself\u001b[39m, images: List[np\u001b[38;5;241m.\u001b[39mndarray]) \u001b[38;5;241m-\u001b[39m\u001b[38;5;241m>\u001b[39m np\u001b[38;5;241m.\u001b[39mndarray:\n\u001b[1;32m     49\u001b[0m \u001b[38;5;250m    \u001b[39m\u001b[38;5;124;03m\"\"\"method that should be implemented if the passed dataloader has batch_size != 1\u001b[39;00m\n\u001b[1;32m     50\u001b[0m \n\u001b[1;32m     51\u001b[0m \u001b[38;5;124;03m    Args:\u001b[39;00m\n\u001b[1;32m     52\u001b[0m \u001b[38;5;124;03m        images (List[np.ndarray]): input images\u001b[39;00m\n\u001b[1;32m     53\u001b[0m \u001b[38;5;124;03m    \"\"\"\u001b[39;00m\n\u001b[0;32m---> 54\u001b[0m     \u001b[38;5;28;01mreturn\u001b[39;00m np\u001b[38;5;241m.\u001b[39marray(\u001b[43m[\u001b[49m\u001b[38;5;28;43mself\u001b[39;49m\u001b[38;5;241;43m.\u001b[39;49m\u001b[43mpredict_image\u001b[49m\u001b[43m(\u001b[49m\u001b[43mimage\u001b[49m\u001b[43m)\u001b[49m\u001b[43m \u001b[49m\u001b[38;5;28;43;01mfor\u001b[39;49;00m\u001b[43m \u001b[49m\u001b[43mimage\u001b[49m\u001b[43m \u001b[49m\u001b[38;5;129;43;01min\u001b[39;49;00m\u001b[43m \u001b[49m\u001b[43mimages\u001b[49m\u001b[43m]\u001b[49m)\n",
      "File \u001b[0;32m~/Work/loreal-poc/loreal_poc/models/base.py:54\u001b[0m, in \u001b[0;36m<listcomp>\u001b[0;34m(.0)\u001b[0m\n\u001b[1;32m     48\u001b[0m \u001b[38;5;28;01mdef\u001b[39;00m \u001b[38;5;21mpredict_batch\u001b[39m(\u001b[38;5;28mself\u001b[39m, images: List[np\u001b[38;5;241m.\u001b[39mndarray]) \u001b[38;5;241m-\u001b[39m\u001b[38;5;241m>\u001b[39m np\u001b[38;5;241m.\u001b[39mndarray:\n\u001b[1;32m     49\u001b[0m \u001b[38;5;250m    \u001b[39m\u001b[38;5;124;03m\"\"\"method that should be implemented if the passed dataloader has batch_size != 1\u001b[39;00m\n\u001b[1;32m     50\u001b[0m \n\u001b[1;32m     51\u001b[0m \u001b[38;5;124;03m    Args:\u001b[39;00m\n\u001b[1;32m     52\u001b[0m \u001b[38;5;124;03m        images (List[np.ndarray]): input images\u001b[39;00m\n\u001b[1;32m     53\u001b[0m \u001b[38;5;124;03m    \"\"\"\u001b[39;00m\n\u001b[0;32m---> 54\u001b[0m     \u001b[38;5;28;01mreturn\u001b[39;00m np\u001b[38;5;241m.\u001b[39marray([\u001b[38;5;28;43mself\u001b[39;49m\u001b[38;5;241;43m.\u001b[39;49m\u001b[43mpredict_image\u001b[49m\u001b[43m(\u001b[49m\u001b[43mimage\u001b[49m\u001b[43m)\u001b[49m \u001b[38;5;28;01mfor\u001b[39;00m image \u001b[38;5;129;01min\u001b[39;00m images])\n",
      "File \u001b[0;32m~/Work/loreal-poc/loreal_poc/models/wrappers.py:64\u001b[0m, in \u001b[0;36mOpenCVWrapper.predict_image\u001b[0;34m(self, image)\u001b[0m\n\u001b[1;32m     62\u001b[0m faces \u001b[38;5;241m=\u001b[39m \u001b[38;5;28mself\u001b[39m\u001b[38;5;241m.\u001b[39mdetector\u001b[38;5;241m.\u001b[39mdetectMultiScale(image)\n\u001b[1;32m     63\u001b[0m \u001b[38;5;66;03m# Detect landmarks on \"image_gray\"\u001b[39;00m\n\u001b[0;32m---> 64\u001b[0m _, landmarks \u001b[38;5;241m=\u001b[39m \u001b[38;5;28;43mself\u001b[39;49m\u001b[38;5;241;43m.\u001b[39;49m\u001b[43mlandmark_detector\u001b[49m\u001b[38;5;241;43m.\u001b[39;49m\u001b[43mfit\u001b[49m\u001b[43m(\u001b[49m\u001b[43mimage\u001b[49m\u001b[43m,\u001b[49m\u001b[43m \u001b[49m\u001b[43mfaces\u001b[49m\u001b[43m)\u001b[49m\n\u001b[1;32m     65\u001b[0m \u001b[38;5;66;03m# temporary taking only one face\u001b[39;00m\n\u001b[1;32m     66\u001b[0m \u001b[38;5;28;01mreturn\u001b[39;00m np\u001b[38;5;241m.\u001b[39marray(landmarks)[\u001b[38;5;241m0\u001b[39m, \u001b[38;5;241m0\u001b[39m]\n",
      "\u001b[0;31merror\u001b[0m: OpenCV(4.8.1) /Users/xperience/GHA-OpenCV-Python/_work/opencv-python/opencv-python/opencv/modules/core/src/matrix.cpp:1193: error: (-15:Bad number of channels) The total width is not divisible by the new number of channels in function 'reshape'\n"
     ]
    }
   ],
   "source": [
    "rel_margins = np.arange(0.0, 0.1, step=0.025)\n",
    "\n",
    "metrics, predictions = [], []\n",
    "for rel_margin in rel_margins:\n",
    "    _test_result = Test(metric=NMEMean, threshold=1).run(\n",
    "        model, CroppedDataLoader(ds, part=facial_part, margins=rel_margin), facial_part=facial_part\n",
    "    )\n",
    "    metrics.append(_test_result.metric_value)\n",
    "    predictions.append(_test_result.prediction_results[0].prediction)"
   ]
  },
  {
   "cell_type": "code",
   "execution_count": null,
   "metadata": {},
   "outputs": [],
   "source": [
    "from loreal_poc.transformation_functions.crop import get_boundaries_from_marks, crop_mark\n",
    "\n",
    "colors = [\"red\", \"pink\", \"magenta\", \"blue\"]\n",
    "squares = []\n",
    "chosen_idx = 1\n",
    "image, _, _ = ds[chosen_idx]\n",
    "image = image[0]\n",
    "for rel_margin in rel_margins:\n",
    "    img, marks, meta = ds[chosen_idx]\n",
    "    img, marks, meta = img[0], marks[0], meta[0]\n",
    "    h, w, _ = img.shape\n",
    "    margins = np.array([w, h]) * rel_margin\n",
    "    cropped_mark = crop_mark(marks, facial_part)\n",
    "    left, upper, right, lower = get_boundaries_from_marks(cropped_mark, margins)\n",
    "\n",
    "    squares.append([(left, lower), (right, upper)])\n",
    "\n",
    "draw_marks(image, [crop_mark(p[chosen_idx], facial_part) for p in predictions], colors, squares=squares)"
   ]
  },
  {
   "cell_type": "code",
   "execution_count": null,
   "metadata": {},
   "outputs": [],
   "source": [
    "import matplotlib.pyplot as plt\n",
    "\n",
    "# Plotting the Graph\n",
    "plt.plot(rel_margins, metrics, label=f\"cropped dataset ({facial_part.name})\")\n",
    "for i, p in enumerate(predictions):\n",
    "    plt.plot(rel_margins[i], metrics[i], \"o\", c=colors[i])\n",
    "plt.plot(rel_margins, [test_on_original_ds.metric_value] * len(rel_margins), \"g--\", label=\"original dataset\")\n",
    "plt.title(f\"NME on {facial_part.name} w.r.t. rel_margin\")\n",
    "plt.xlabel(\"rel_margin\")\n",
    "plt.ylabel(f\"NME on {facial_part.name}\")\n",
    "plt.legend()\n",
    "plt.show()"
   ]
  },
  {
   "cell_type": "code",
   "execution_count": null,
   "metadata": {},
   "outputs": [],
   "source": [
    "from loreal_poc.tests.base import TestDiff\n",
    "from loreal_poc.tests.performance import NMEMean, NMEStd\n",
    "\n",
    "TestDiff(NMEMean, threshold=1).run(model, ds, CroppedDataLoader(ds, part=facial_part, margins=0.01))"
   ]
  },
  {
   "cell_type": "code",
   "execution_count": null,
   "metadata": {},
   "outputs": [],
   "source": [
    "TestDiff(NMEStd, threshold=1).run(model, ds, CroppedDataLoader(ds, part=facial_part, margins=0.01))"
   ]
  },
  {
   "cell_type": "code",
   "execution_count": null,
   "metadata": {},
   "outputs": [],
   "source": []
  }
 ],
 "metadata": {
  "kernelspec": {
   "display_name": "Python 3 (ipykernel)",
   "language": "python",
   "name": "python3"
  },
  "language_info": {
   "codemirror_mode": {
    "name": "ipython",
    "version": 3
   },
   "file_extension": ".py",
   "mimetype": "text/x-python",
   "name": "python",
   "nbconvert_exporter": "python",
   "pygments_lexer": "ipython3",
   "version": "3.11.7"
  }
 },
 "nbformat": 4,
 "nbformat_minor": 4
}
