{
 "cells": [
  {
   "cell_type": "code",
   "execution_count": null,
   "metadata": {
    "collapsed": false,
    "jupyter": {
     "outputs_hidden": false
    }
   },
   "outputs": [],
   "source": [
    "from face_alignment import FaceAlignment, LandmarksType\n",
    "\n",
    "from loreal_poc.dataloaders.loaders import DataLoader300W\n",
    "from loreal_poc.dataloaders.wrappers import CroppedDataLoader, CachedDataLoader\n",
    "from loreal_poc.marks.facial_parts import FacialParts\n",
    "from loreal_poc.visualisation.draw import draw_marks\n",
    "from loreal_poc.tests.performance import NMEMean\n",
    "from loreal_poc.models.wrappers import FaceAlignmentWrapper\n",
    "from loreal_poc.tests.base import Test\n",
    "import numpy as np"
   ]
  },
  {
   "cell_type": "markdown",
   "metadata": {
    "collapsed": false,
    "jupyter": {
     "outputs_hidden": false
    }
   },
   "source": [
    "Benchmark"
   ]
  },
  {
   "cell_type": "code",
   "execution_count": null,
   "metadata": {
    "collapsed": false,
    "jupyter": {
     "outputs_hidden": false
    }
   },
   "outputs": [],
   "source": [
    "ds = DataLoader300W(dir_path=\"300W/sample\")"
   ]
  },
  {
   "cell_type": "code",
   "execution_count": null,
   "metadata": {},
   "outputs": [],
   "source": [
    "import torch\n",
    "\n",
    "device = \"cuda\" if torch.cuda.is_available() else \"cpu\"\n",
    "device"
   ]
  },
  {
   "cell_type": "markdown",
   "metadata": {
    "collapsed": false,
    "jupyter": {
     "outputs_hidden": false
    }
   },
   "source": [
    "L'Oreal"
   ]
  },
  {
   "cell_type": "code",
   "execution_count": null,
   "metadata": {
    "collapsed": false,
    "jupyter": {
     "outputs_hidden": false
    }
   },
   "outputs": [],
   "source": [
    "chosen_idx = 4\n",
    "facial_part = FacialParts.upper_half\n",
    "cropped_ds = CroppedDataLoader(ds, facial_part, crop_img=False)\n",
    "image, picked_landmarks, meta = cropped_ds[chosen_idx]"
   ]
  },
  {
   "cell_type": "code",
   "execution_count": null,
   "metadata": {},
   "outputs": [],
   "source": [
    "draw_marks(image, [picked_landmarks], [\"green\"], [True])"
   ]
  },
  {
   "cell_type": "markdown",
   "metadata": {},
   "source": [
    "### Model "
   ]
  },
  {
   "cell_type": "code",
   "execution_count": null,
   "metadata": {},
   "outputs": [],
   "source": [
    "model = FaceAlignmentWrapper(model=FaceAlignment(LandmarksType.TWO_D, device=device, flip_input=False))"
   ]
  },
  {
   "cell_type": "markdown",
   "metadata": {},
   "source": [
    "### NME test on original dataset"
   ]
  },
  {
   "cell_type": "code",
   "execution_count": null,
   "metadata": {},
   "outputs": [],
   "source": [
    "test_on_original_ds = Test(metric=NMEMean, threshold=1).run(model, ds)\n",
    "test_on_original_ds"
   ]
  },
  {
   "cell_type": "markdown",
   "metadata": {},
   "source": [
    "## Model predictions on cropped image"
   ]
  },
  {
   "cell_type": "code",
   "execution_count": null,
   "metadata": {},
   "outputs": [],
   "source": [
    "cropped_ds = CroppedDataLoader(ds, facial_part, crop_img=False)\n",
    "cropped_image, _, _ = cropped_ds[chosen_idx]\n",
    "predictions = model.predict(cropped_ds, [chosen_idx], facial_part=facial_part)\n",
    "draw_marks(cropped_image, [predictions.prediction[0]], [\"red\"], [True])"
   ]
  },
  {
   "cell_type": "markdown",
   "metadata": {},
   "source": [
    "## NME test on all cropped images\n",
    "\n"
   ]
  },
  {
   "cell_type": "markdown",
   "metadata": {},
   "source": [
    "### rel_margin range [0.01, 0.1]"
   ]
  },
  {
   "cell_type": "code",
   "execution_count": null,
   "metadata": {},
   "outputs": [],
   "source": [
    "rel_margins = np.arange(0.0, 0.1, step=0.025)\n",
    "\n",
    "metrics, predictions = [], []\n",
    "for rel_margin in rel_margins:\n",
    "    _test_result = Test(metric=NMEMean, threshold=1).run(\n",
    "        model, CroppedDataLoader(ds, part=facial_part, margins=rel_margin)\n",
    "    )\n",
    "    metrics.append(_test_result.metric_value)\n",
    "    predictions.append(_test_result.prediction_results[0].prediction)"
   ]
  },
  {
   "cell_type": "code",
   "execution_count": null,
   "metadata": {},
   "outputs": [],
   "source": [
    "from loreal_poc.transformation_functions.crop import get_boundaries_from_marks, crop_mark\n",
    "\n",
    "colors = [\"red\", \"pink\", \"magenta\", \"blue\"]\n",
    "squares = []\n",
    "for rel_margin in rel_margins:\n",
    "    img, marks, meta = ds[chosen_idx]\n",
    "    h, w, _ = img.shape\n",
    "    margins = np.array([w, h]) * rel_margin\n",
    "    cropped_mark = crop_mark(marks, facial_part)\n",
    "    left, upper, right, lower = get_boundaries_from_marks(cropped_mark, margins)\n",
    "\n",
    "    squares.append([(left, lower), (right, upper)])\n",
    "\n",
    "draw_marks(image, [p[chosen_idx] for p in predictions], colors, squares=squares)"
   ]
  },
  {
   "cell_type": "code",
   "execution_count": null,
   "metadata": {},
   "outputs": [],
   "source": [
    "draw_marks(image, [p[chosen_idx] for p in predictions], colors, squares=squares)"
   ]
  },
  {
   "cell_type": "code",
   "execution_count": null,
   "metadata": {},
   "outputs": [],
   "source": [
    "draw_marks(image, np.array(predictions)[:, chosen_idx], colors)"
   ]
  },
  {
   "cell_type": "code",
   "execution_count": null,
   "metadata": {},
   "outputs": [],
   "source": [
    "np.array(predictions)[:, chosen_idx].shape"
   ]
  },
  {
   "cell_type": "code",
   "execution_count": null,
   "metadata": {},
   "outputs": [],
   "source": [
    "import matplotlib.pyplot as plt\n",
    "\n",
    "# Plotting the Graph\n",
    "plt.plot(rel_margins, metrics, label=f\"cropped dataset ({facial_part.name})\")\n",
    "for i, p in enumerate(predictions):\n",
    "    plt.plot(rel_margins[i], metrics[i], \"o\", c=colors[i])\n",
    "plt.plot(rel_margins, [test_on_original_ds.metric_value] * len(rel_margins), \"g--\", label=\"original dataset\")\n",
    "plt.title(f\"NME on {facial_part.name} w.r.t. rel_margin\")\n",
    "plt.xlabel(\"rel_margin\")\n",
    "plt.ylabel(f\"NME on {facial_part.name}\")\n",
    "plt.legend()\n",
    "plt.show()"
   ]
  },
  {
   "cell_type": "code",
   "execution_count": null,
   "metadata": {},
   "outputs": [],
   "source": [
    "from loreal_poc.tests.base import TestDiff\n",
    "from loreal_poc.tests.performance import NMEMean, NMEStd\n",
    "\n",
    "TestDiff(NMEMean, threshold=1).run(model, ds, CroppedDataLoader(ds, part=facial_part, margins=0.01))"
   ]
  },
  {
   "cell_type": "code",
   "execution_count": null,
   "metadata": {},
   "outputs": [],
   "source": [
    "TestDiff(NMEStd, threshold=1).run(model, ds, CroppedDataLoader(ds, part=facial_part, margins=0.01))"
   ]
  }
 ],
 "metadata": {
  "kernelspec": {
   "display_name": "Python 3 (ipykernel)",
   "language": "python",
   "name": "python3"
  },
  "language_info": {
   "codemirror_mode": {
    "name": "ipython",
    "version": 3
   },
   "file_extension": ".py",
   "mimetype": "text/x-python",
   "name": "python",
   "nbconvert_exporter": "python",
   "pygments_lexer": "ipython3",
   "version": "3.11.6"
  }
 },
 "nbformat": 4,
 "nbformat_minor": 4
}
