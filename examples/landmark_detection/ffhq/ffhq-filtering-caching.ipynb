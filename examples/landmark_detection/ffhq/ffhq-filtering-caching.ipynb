{
 "cells": [
  {
   "cell_type": "code",
   "execution_count": null,
   "metadata": {},
   "outputs": [],
   "source": [
    "from giskard_vision.landmark_detection.dataloaders.loaders import DataLoaderFFHQ\n",
    "from giskard_vision.core.dataloaders.wrappers import CachedDataLoader, FilteredDataLoader\n",
    "from giskard_vision.core.dataloaders.base import DataLoaderWrapper\n",
    "from giskard_vision.landmark_detection.visualisation.draw import draw_marks\n",
    "from giskard_vision.core.dataloaders.meta import MetaData\n",
    "\n",
    "dl = DataLoaderFFHQ(\"../datasets/ffhq\")"
   ]
  },
  {
   "cell_type": "code",
   "execution_count": null,
   "metadata": {},
   "outputs": [],
   "source": [
    "class WithMetaDataLoader(DataLoaderWrapper):\n",
    "    def get_meta(self, idx):\n",
    "        print(f\"Should be displayed if not cached {idx}\")\n",
    "        return MetaData({\"type\": \"even\" if idx % 2 == 0 else \"odd\"})"
   ]
  },
  {
   "cell_type": "code",
   "execution_count": null,
   "metadata": {},
   "outputs": [],
   "source": [
    "dl = CachedDataLoader(WithMetaDataLoader(dl), cache_size=None, cache_img=False, cache_labels=False)\n",
    "dl.name"
   ]
  },
  {
   "cell_type": "code",
   "execution_count": null,
   "metadata": {},
   "outputs": [],
   "source": [
    "len(dl)"
   ]
  },
  {
   "cell_type": "code",
   "execution_count": null,
   "metadata": {},
   "outputs": [],
   "source": [
    "elt = next(dl)"
   ]
  },
  {
   "cell_type": "code",
   "execution_count": null,
   "metadata": {},
   "outputs": [],
   "source": [
    "type(elt)"
   ]
  },
  {
   "cell_type": "code",
   "execution_count": null,
   "metadata": {},
   "outputs": [],
   "source": [
    "elt[1].shape"
   ]
  },
  {
   "cell_type": "code",
   "execution_count": null,
   "metadata": {},
   "outputs": [],
   "source": [
    "type(elt[0])"
   ]
  },
  {
   "cell_type": "code",
   "execution_count": null,
   "metadata": {},
   "outputs": [],
   "source": [
    "type(elt[0][0])"
   ]
  },
  {
   "cell_type": "code",
   "execution_count": null,
   "metadata": {},
   "outputs": [],
   "source": [
    "elt = next(dl)"
   ]
  },
  {
   "cell_type": "code",
   "execution_count": null,
   "metadata": {},
   "outputs": [],
   "source": [
    "odds = FilteredDataLoader(dl, lambda elt: elt[2].get(\"type\") == \"odd\")\n",
    "len(odds)"
   ]
  },
  {
   "cell_type": "code",
   "execution_count": null,
   "metadata": {},
   "outputs": [],
   "source": [
    "odds._reindex"
   ]
  },
  {
   "cell_type": "code",
   "execution_count": null,
   "metadata": {},
   "outputs": [],
   "source": [
    "evens = FilteredDataLoader(dl, lambda elt: elt[2].get(\"type\") == \"even\")\n",
    "len(evens)"
   ]
  },
  {
   "cell_type": "code",
   "execution_count": null,
   "metadata": {},
   "outputs": [],
   "source": [
    "evens._reindex"
   ]
  },
  {
   "cell_type": "code",
   "execution_count": null,
   "metadata": {},
   "outputs": [],
   "source": [
    "evens.name"
   ]
  },
  {
   "cell_type": "code",
   "execution_count": null,
   "metadata": {},
   "outputs": [],
   "source": [
    "import numpy as np\n",
    "\n",
    "assert np.array_equal(dl[2][0], evens[1][0])\n",
    "assert np.array_equal(dl[3][0], odds[1][0])\n",
    "assert np.array_equal(dl[10][0], evens[5][0])\n",
    "assert np.array_equal(dl[9][0], odds[4][0])"
   ]
  },
  {
   "cell_type": "code",
   "execution_count": null,
   "metadata": {},
   "outputs": [],
   "source": [
    "image, marks, meta = odds[1]\n",
    "image, marks, meta = image[0], marks[0], meta[0]\n",
    "\n",
    "draw_marks(image, [marks], [\"green\"])"
   ]
  },
  {
   "cell_type": "code",
   "execution_count": null,
   "metadata": {},
   "outputs": [],
   "source": [
    "image, marks, meta = dl[3]\n",
    "image, marks, meta = image[0], marks[0], meta[0]\n",
    "\n",
    "draw_marks(image, [marks], [\"green\"])"
   ]
  },
  {
   "cell_type": "code",
   "execution_count": null,
   "metadata": {},
   "outputs": [],
   "source": []
  }
 ],
 "metadata": {
  "kernelspec": {
   "display_name": "Python 3 (ipykernel)",
   "language": "python",
   "name": "python3"
  },
  "language_info": {
   "codemirror_mode": {
    "name": "ipython",
    "version": 3
   },
   "file_extension": ".py",
   "mimetype": "text/x-python",
   "name": "python",
   "nbconvert_exporter": "python",
   "pygments_lexer": "ipython3",
   "version": "3.11.9"
  }
 },
 "nbformat": 4,
 "nbformat_minor": 4
}
