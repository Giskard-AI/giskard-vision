{
 "cells": [
  {
   "cell_type": "code",
   "execution_count": null,
   "metadata": {},
   "outputs": [],
   "source": [
    "from giskard_vision.landmark_detection.dataloaders.loaders import DataLoaderFFHQ\n",
    "\n",
    "from giskard_vision.landmark_detection.visualisation.draw import draw_marks\n",
    "from giskard_vision.core.dataloaders.wrappers import FilteredDataLoader\n",
    "\n",
    "dl = DataLoaderFFHQ(\"../datasets/ffhq\")"
   ]
  },
  {
   "cell_type": "code",
   "execution_count": null,
   "metadata": {},
   "outputs": [],
   "source": [
    "img, marks, meta = dl[0]\n",
    "\n",
    "fdl = FilteredDataLoader(dl, lambda elt: elt[2].get_includes(\"yaw\") < 0)\n",
    "len(fdl)"
   ]
  },
  {
   "cell_type": "code",
   "execution_count": null,
   "metadata": {},
   "outputs": [],
   "source": [
    "image, marks, meta = fdl[2]\n",
    "image, marks, meta = image[0], marks[0], meta.data\n",
    "\n",
    "draw_marks(image, [marks], [\"green\"])"
   ]
  },
  {
   "cell_type": "code",
   "execution_count": null,
   "metadata": {},
   "outputs": [],
   "source": []
  }
 ],
 "metadata": {
  "kernelspec": {
   "display_name": "Python 3 (ipykernel)",
   "language": "python",
   "name": "python3"
  },
  "language_info": {
   "codemirror_mode": {
    "name": "ipython",
    "version": 3
   },
   "file_extension": ".py",
   "mimetype": "text/x-python",
   "name": "python",
   "nbconvert_exporter": "python",
   "pygments_lexer": "ipython3",
   "version": "3.11.9"
  }
 },
 "nbformat": 4,
 "nbformat_minor": 4
}
