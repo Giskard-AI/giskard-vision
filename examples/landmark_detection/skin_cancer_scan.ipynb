{
 "cells": [
  {
   "cell_type": "code",
   "execution_count": 1,
   "id": "6f32a326-8a46-45d1-8472-0bd9947b396e",
   "metadata": {},
   "outputs": [
    {
     "name": "stderr",
     "output_type": "stream",
     "text": [
      "/Users/rabahabdulkhalek/Documents/giskard_repos/giskard-vision/.venv/lib/python3.11/site-packages/tqdm/auto.py:21: TqdmWarning: IProgress not found. Please update jupyter and ipywidgets. See https://ipywidgets.readthedocs.io/en/stable/user_install.html\n",
      "  from .autonotebook import tqdm as notebook_tqdm\n",
      "Fast image processor class <class 'transformers.models.vit.image_processing_vit_fast.ViTImageProcessorFast'> is available for this model. Using slow image processor class. To use the fast image processor class set `use_fast=True`.\n"
     ]
    }
   ],
   "source": [
    "from giskard_vision.image_classification.models.wrappers import SkinCancerHuggingFaceModel\n",
    "from giskard_vision.image_classification.dataloaders.loaders import DataLoaderSkinCancerHuggingFaceDataset\n",
    "\n",
    "model = SkinCancerHuggingFaceModel(device=\"mps\")\n",
    "ds = DataLoaderSkinCancerHuggingFaceDataset(dataset_split=\"test\")"
   ]
  },
  {
   "cell_type": "code",
   "execution_count": 2,
   "id": "9d970e95",
   "metadata": {},
   "outputs": [
    {
     "name": "stdout",
     "output_type": "stream",
     "text": [
      "🔎 Running scan…\n",
      "2024-07-19 13:00:30,790 pid:66839 MainThread giskard_vision.core.scanner.scanner INFO     Running detectors: ['MetaDataScanDetectorClassification']\n",
      "Running detector MetaDataScanDetectorClassification…\n"
     ]
    }
   ],
   "source": [
    "from giskard_vision.core.scanner import scan\n",
    "\n",
    "scan(model, ds, only=[\"metadata\"], raise_exceptions=True)"
   ]
  },
  {
   "cell_type": "code",
   "execution_count": null,
   "id": "906291b8",
   "metadata": {},
   "outputs": [],
   "source": []
  }
 ],
 "metadata": {
  "kernelspec": {
   "display_name": "Python 3 (ipykernel)",
   "language": "python",
   "name": "python3"
  },
  "language_info": {
   "codemirror_mode": {
    "name": "ipython",
    "version": 3
   },
   "file_extension": ".py",
   "mimetype": "text/x-python",
   "name": "python",
   "nbconvert_exporter": "python",
   "pygments_lexer": "ipython3",
   "version": "3.11.9"
  }
 },
 "nbformat": 4,
 "nbformat_minor": 5
}
