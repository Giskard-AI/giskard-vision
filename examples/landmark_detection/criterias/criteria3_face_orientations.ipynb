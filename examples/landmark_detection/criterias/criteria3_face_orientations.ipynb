{
 "cells": [
  {
   "cell_type": "code",
   "execution_count": 1,
   "metadata": {},
   "outputs": [],
   "source": [
    "from giskard_vision.landmark_detection.dataloaders.loaders import DataLoaderFFHQ\n",
    "from giskard_vision.landmark_detection.dataloaders.wrappers import HeadPoseDataLoader\n",
    "from giskard_vision.core.dataloaders.wrappers import CachedDataLoader, FilteredDataLoader\n",
    "from sixdrepnet import SixDRepNet"
   ]
  },
  {
   "cell_type": "code",
   "execution_count": 2,
   "metadata": {},
   "outputs": [],
   "source": [
    "dl = DataLoaderFFHQ(\"../datasets/ffhq\")"
   ]
  },
  {
   "cell_type": "code",
   "execution_count": 3,
   "metadata": {},
   "outputs": [
    {
     "name": "stdout",
     "output_type": "stream",
     "text": [
      "0 {'pitch': -3.2351706, 'yaw': 17.123957, 'roll': 2.4609118}\n",
      "1 {'pitch': -9.634953, 'yaw': -5.263, 'roll': -1.0166222}\n",
      "2 {'pitch': -12.489754, 'yaw': 7.760907, 'roll': 3.017409}\n",
      "3 {'pitch': -8.279707, 'yaw': 0.58123016, 'roll': -0.17205757}\n",
      "4 {'pitch': -8.762704, 'yaw': -4.9386187, 'roll': -0.59270185}\n",
      "5 {'pitch': -2.703518, 'yaw': 3.4559636, 'roll': -3.7665286}\n",
      "6 {'pitch': -13.6264105, 'yaw': -28.628199, 'roll': -2.5795803}\n",
      "7 {'pitch': -17.597815, 'yaw': 16.94254, 'roll': 4.6466646}\n",
      "8 {'pitch': -8.4020605, 'yaw': 6.840177, 'roll': -0.92642134}\n",
      "9 {'pitch': 13.562258, 'yaw': 29.946465, 'roll': -6.7045293}\n",
      "10 {'pitch': -14.822533, 'yaw': 3.8378444, 'roll': 0.5621732}\n"
     ]
    }
   ],
   "source": [
    "cached_dl = CachedDataLoader(HeadPoseDataLoader(dl), cache_size=None, cache_img=False, cache_labels=False)\n",
    "\n",
    "for idx, (img, marks, meta) in enumerate(cached_dl):\n",
    "    print(idx, meta.data)"
   ]
  },
  {
   "cell_type": "code",
   "execution_count": 4,
   "metadata": {},
   "outputs": [],
   "source": [
    "head_pose_dl = FilteredDataLoader(cached_dl, lambda elt: elt[2].get_includes(\"roll\") > 0)"
   ]
  },
  {
   "cell_type": "code",
   "execution_count": 5,
   "metadata": {},
   "outputs": [
    {
     "name": "stdout",
     "output_type": "stream",
     "text": [
      "0 {'pitch': -3.2351706, 'yaw': 17.123957, 'roll': 2.4609118}\n",
      "2 {'pitch': -12.489754, 'yaw': 7.760907, 'roll': 3.017409}\n",
      "7 {'pitch': -17.597815, 'yaw': 16.94254, 'roll': 4.6466646}\n",
      "10 {'pitch': -14.822533, 'yaw': 3.8378444, 'roll': 0.5621732}\n"
     ]
    }
   ],
   "source": [
    "for idx, (img, marks, meta) in enumerate(head_pose_dl):\n",
    "    print(head_pose_dl._reindex[idx], meta.data)"
   ]
  },
  {
   "cell_type": "code",
   "execution_count": null,
   "metadata": {},
   "outputs": [],
   "source": []
  }
 ],
 "metadata": {
  "kernelspec": {
   "display_name": ".venv",
   "language": "python",
   "name": "python3"
  },
  "language_info": {
   "codemirror_mode": {
    "name": "ipython",
    "version": 3
   },
   "file_extension": ".py",
   "mimetype": "text/x-python",
   "name": "python",
   "nbconvert_exporter": "python",
   "pygments_lexer": "ipython3",
   "version": "3.11.7"
  }
 },
 "nbformat": 4,
 "nbformat_minor": 2
}
