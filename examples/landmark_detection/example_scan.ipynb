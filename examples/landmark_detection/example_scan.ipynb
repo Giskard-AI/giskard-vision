{
 "cells": [
  {
   "cell_type": "code",
   "execution_count": 1,
   "metadata": {},
   "outputs": [],
   "source": [
    "from pathlib import Path\n",
    "\n",
    "from giskard_vision.landmark_detection.models.wrappers import OpenCVWrapper\n",
    "from giskard_vision.landmark_detection.dataloaders.loaders import DataLoader300W\n",
    "from giskard_vision.landmark_detection import detectors\n",
    "\n",
    "import giskard"
   ]
  },
  {
   "cell_type": "code",
   "execution_count": 2,
   "metadata": {},
   "outputs": [
    {
     "name": "stdout",
     "output_type": "stream",
     "text": [
      "loading data from : lbfmodel.yaml\n"
     ]
    }
   ],
   "source": [
    "model = OpenCVWrapper()\n",
    "dl_ref = DataLoader300W(dir_path=str(Path(__file__).parent / \"300W/sample\"))\n",
    "\n",
    "giskard.scan(\n",
    "    model,\n",
    "    dl_ref,\n",
    ")"
   ]
  },
  {
   "cell_type": "code",
   "execution_count": null,
   "metadata": {},
   "outputs": [],
   "source": []
  }
 ],
 "metadata": {
  "kernelspec": {
   "display_name": ".venv",
   "language": "python",
   "name": "python3"
  },
  "language_info": {
   "codemirror_mode": {
    "name": "ipython",
    "version": 3
   },
   "file_extension": ".py",
   "mimetype": "text/x-python",
   "name": "python",
   "nbconvert_exporter": "python",
   "pygments_lexer": "ipython3",
   "version": "3.10.12"
  }
 },
 "nbformat": 4,
 "nbformat_minor": 2
}
