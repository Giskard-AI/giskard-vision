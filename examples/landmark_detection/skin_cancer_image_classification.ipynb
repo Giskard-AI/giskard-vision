{
 "cells": [
  {
   "cell_type": "code",
   "execution_count": 1,
   "id": "6f32a326-8a46-45d1-8472-0bd9947b396e",
   "metadata": {},
   "outputs": [
    {
     "name": "stderr",
     "output_type": "stream",
     "text": [
      "/Users/inoki/.virtualenvs/giskard-vision/lib/python3.11/site-packages/tqdm/auto.py:21: TqdmWarning: IProgress not found. Please update jupyter and ipywidgets. See https://ipywidgets.readthedocs.io/en/stable/user_install.html\n",
      "  from .autonotebook import tqdm as notebook_tqdm\n",
      "Fast image processor class <class 'transformers.models.vit.image_processing_vit_fast.ViTImageProcessorFast'> is available for this model. Using slow image processor class. To use the fast image processor class set `use_fast=True`.\n"
     ]
    }
   ],
   "source": [
    "from giskard_vision.image_classification.models.wrappers import SkinCancerHuggingFaceModel\n",
    "\n",
    "model = SkinCancerHuggingFaceModel()"
   ]
  },
  {
   "cell_type": "code",
   "execution_count": 2,
   "id": "fb82b01d-55dd-4319-b88d-9756dddcc756",
   "metadata": {},
   "outputs": [],
   "source": [
    "from giskard_vision.image_classification.dataloaders.loaders import DataLoaderSkinCancerHuggingFaceDataset\n",
    "\n",
    "ds = DataLoaderSkinCancerHuggingFaceDataset()"
   ]
  },
  {
   "cell_type": "code",
   "execution_count": 3,
   "id": "affb4ee7-d48f-4fee-8f62-1d572f06940a",
   "metadata": {},
   "outputs": [
    {
     "data": {
      "text/plain": [
       "({'age': 75.0, 'sex': 'female', 'localization': 'lower extremity'},\n",
       " dict_keys(['age', 'sex', 'localization']))"
      ]
     },
     "execution_count": 3,
     "metadata": {},
     "output_type": "execute_result"
    }
   ],
   "source": [
    "meta = ds.get_meta(0)\n",
    "(meta.data, meta.categories)"
   ]
  },
  {
   "cell_type": "code",
   "execution_count": 4,
   "id": "b216ebb6-d18a-46cd-8079-970e64ded5b2",
   "metadata": {},
   "outputs": [
    {
     "data": {
      "text/plain": [
       "array([2])"
      ]
     },
     "execution_count": 4,
     "metadata": {},
     "output_type": "execute_result"
    }
   ],
   "source": [
    "prediction = model.predict_image(ds.get_image(0))\n",
    "\n",
    "prediction"
   ]
  },
  {
   "cell_type": "code",
   "execution_count": null,
   "id": "e513fbfd-ecb0-4b2a-a4da-e21f7c354e27",
   "metadata": {},
   "outputs": [],
   "source": [
    "model.predict(ds)"
   ]
  }
 ],
 "metadata": {
  "kernelspec": {
   "display_name": "Python 3 (ipykernel)",
   "language": "python",
   "name": "python3"
  },
  "language_info": {
   "codemirror_mode": {
    "name": "ipython",
    "version": 3
   },
   "file_extension": ".py",
   "mimetype": "text/x-python",
   "name": "python",
   "nbconvert_exporter": "python",
   "pygments_lexer": "ipython3",
   "version": "3.11.9"
  }
 },
 "nbformat": 4,
 "nbformat_minor": 5
}
