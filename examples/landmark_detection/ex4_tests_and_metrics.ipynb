{
 "cells": [
  {
   "cell_type": "code",
   "execution_count": 1,
   "metadata": {
    "collapsed": false,
    "jupyter": {
     "outputs_hidden": false
    }
   },
   "outputs": [],
   "source": [
    "from face_alignment import FaceAlignment, LandmarksType\n",
    "\n",
    "from giskard_vision.landmark_detection.dataloaders.loaders import DataLoader300W\n",
    "\n",
    "from giskard_vision.landmark_detection.visualisation.draw import draw_marks\n",
    "from giskard_vision.landmark_detection.tests.performance import NMEMean\n",
    "from giskard_vision.landmark_detection.tests.base import Test, TestDiff\n",
    "from giskard_vision.landmark_detection.marks.facial_parts import FacialParts\n",
    "from giskard_vision.landmark_detection.models.wrappers import FaceAlignmentWrapper\n",
    "from giskard_vision.landmark_detection.tests.base import Test, TestDiff"
   ]
  },
  {
   "cell_type": "markdown",
   "metadata": {
    "collapsed": false,
    "jupyter": {
     "outputs_hidden": false
    }
   },
   "source": [
    "Benchmark"
   ]
  },
  {
   "cell_type": "code",
   "execution_count": 2,
   "metadata": {
    "collapsed": false,
    "jupyter": {
     "outputs_hidden": false
    }
   },
   "outputs": [],
   "source": [
    "ds = DataLoader300W(dir_path=\"300W/sample\")"
   ]
  },
  {
   "cell_type": "code",
   "execution_count": 3,
   "metadata": {},
   "outputs": [
    {
     "data": {
      "text/plain": [
       "'cpu'"
      ]
     },
     "execution_count": 3,
     "metadata": {},
     "output_type": "execute_result"
    }
   ],
   "source": [
    "import torch\n",
    "\n",
    "device = \"cuda\" if torch.cuda.is_available() else \"cpu\"\n",
    "device"
   ]
  },
  {
   "cell_type": "markdown",
   "metadata": {
    "collapsed": false,
    "jupyter": {
     "outputs_hidden": false
    }
   },
   "source": [
    "L'Oreal"
   ]
  },
  {
   "cell_type": "code",
   "execution_count": 4,
   "metadata": {
    "collapsed": false,
    "jupyter": {
     "outputs_hidden": false
    }
   },
   "outputs": [],
   "source": [
    "model = FaceAlignmentWrapper(model=FaceAlignment(LandmarksType.TWO_D, device=device, flip_input=False))"
   ]
  },
  {
   "cell_type": "code",
   "execution_count": 5,
   "metadata": {
    "collapsed": false,
    "jupyter": {
     "outputs_hidden": false
    }
   },
   "outputs": [
    {
     "data": {
      "text/html": [
       "\n",
       "               <h4><span style=\"color:green;\">✓</span> Test \"NME_mean\" succeeded</h4>\n",
       "               <p>Description: Mean of normalised mean Euclidean distances across images</p>\n",
       "               <p>Metric: <b>0.0623</b> (threshold = 1)</p>\n",
       "               \n",
       "               <p>Prediction time: 13.1 s.</p>\n",
       "               "
      ],
      "text/plain": [
       "\n",
       "               Test \"NME_mean\" succeeded\n",
       "               Description: Mean of normalised mean Euclidean distances across images\n",
       "               Metric: 0.0623 (threshold = 1)\n",
       "               \n",
       "               Prediction time: 13.1 s.\n",
       "               "
      ]
     },
     "execution_count": 5,
     "metadata": {},
     "output_type": "execute_result"
    }
   ],
   "source": [
    "Test(metric=NMEMean, threshold=1).run(model, ds)"
   ]
  },
  {
   "cell_type": "code",
   "execution_count": 6,
   "metadata": {},
   "outputs": [
    {
     "name": "stderr",
     "output_type": "stream",
     "text": [
      "/Users/bazire/Work/loreal-poc/.venv/lib/python3.11/site-packages/face_alignment/api.py:147: UserWarning: No faces were detected.\n",
      "  warnings.warn(\"No faces were detected.\")\n",
      "/Users/bazire/Work/loreal-poc/loreal_poc/tests/performance.py:47: RuntimeWarning: Mean of empty slice\n",
      "  mes = np.nanmean(es, axis=1)\n"
     ]
    },
    {
     "data": {
      "text/html": [
       "\n",
       "               <h4><span style=\"color:green;\">✓</span> Test \"NME_mean\" succeeded</h4>\n",
       "               <p>Description: Mean of normalised mean Euclidean distances across images</p>\n",
       "               <p>Metric: <b>0.3962</b> (threshold = 1)</p>\n",
       "               Prediction fail rate: 0.4\n",
       "               <p>Prediction time: 18.74 s.</p>\n",
       "               "
      ],
      "text/plain": [
       "\n",
       "               Test \"NME_mean\" succeeded\n",
       "               Description: Mean of normalised mean Euclidean distances across images\n",
       "               Metric: 0.3962 (threshold = 1)\n",
       "               Prediction fail rate: 0.4\n",
       "               Prediction time: 18.74 s.\n",
       "               "
      ]
     },
     "execution_count": 6,
     "metadata": {},
     "output_type": "execute_result"
    }
   ],
   "source": [
    "from giskard_vision.landmark_detection.marks.facial_parts import FacialParts\n",
    "from giskard_vision.landmark_detection.dataloaders.wrappers import CroppedDataLoader, CachedDataLoader\n",
    "\n",
    "facial_part = FacialParts.LEFT_HALF.value\n",
    "\n",
    "TestDiff(metric=NMEMean, threshold=1).run(model, ds, CroppedDataLoader(ds, part=facial_part), facial_part=facial_part)"
   ]
  }
 ],
 "metadata": {
  "kernelspec": {
   "display_name": "Python 3 (ipykernel)",
   "language": "python",
   "name": "python3"
  },
  "language_info": {
   "codemirror_mode": {
    "name": "ipython",
    "version": 3
   },
   "file_extension": ".py",
   "mimetype": "text/x-python",
   "name": "python",
   "nbconvert_exporter": "python",
   "pygments_lexer": "ipython3",
   "version": "3.11.7"
  }
 },
 "nbformat": 4,
 "nbformat_minor": 4
}
