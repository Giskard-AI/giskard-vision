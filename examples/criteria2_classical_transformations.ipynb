{
 "cells": [
  {
   "cell_type": "code",
   "execution_count": null,
   "metadata": {
    "collapsed": false,
    "jupyter": {
     "outputs_hidden": false
    }
   },
   "outputs": [],
   "source": [
    "from face_alignment import FaceAlignment, LandmarksType\n",
    "\n",
    "from loreal_poc.dataloaders.loaders import DataLoader300W\n",
    "from loreal_poc.dataloaders.wrappers import CroppedDataLoader, CachedDataLoader, BlurDataLoader\n",
    "from loreal_poc.marks.facial_parts import FacialParts\n",
    "from loreal_poc.visualisation.draw import draw_marks\n",
    "from loreal_poc.tests.performance import NMEMean\n",
    "from loreal_poc.models.wrappers import FaceAlignmentWrapper, OpenCVWrapper\n",
    "from loreal_poc.tests.base import Test, TestDiff\n",
    "import numpy as np"
   ]
  },
  {
   "cell_type": "markdown",
   "metadata": {},
   "source": [
    "### Model and dataloader"
   ]
  },
  {
   "cell_type": "code",
   "execution_count": null,
   "metadata": {},
   "outputs": [],
   "source": [
    "# model = FaceAlignmentWrapper(model=FaceAlignment(LandmarksType.TWO_D, device='cpu', flip_input=False))\n",
    "model = OpenCVWrapper()\n",
    "dl = DataLoader300W(dir_path=\"300W/sample\", batch_size=1)"
   ]
  },
  {
   "cell_type": "code",
   "execution_count": null,
   "metadata": {},
   "outputs": [],
   "source": [
    "blurred_dl = BlurDataLoader(dl, kernel_size=(15, 15), sigma=(9, 9))\n",
    "# cropped_dl = CroppedDataLoader(dl, part=FacialParts.RIGHT_HALF.value)\n",
    "\n",
    "original_image, marks, _ = dl[4]\n",
    "blurred_image, _, _ = blurred_dl[4]\n",
    "\n",
    "original_predictions = model.predict_image(original_image)\n",
    "blurred_predictions = model.predict_image(blurred_image)\n",
    "draw_marks(blurred_image, [marks, original_predictions, blurred_predictions], [\"green\", \"red\", \"magenta\"])"
   ]
  },
  {
   "cell_type": "markdown",
   "metadata": {},
   "source": [
    "## Model predictions on cropped image"
   ]
  },
  {
   "cell_type": "code",
   "execution_count": null,
   "metadata": {},
   "outputs": [],
   "source": [
    "test_result = TestDiff(metric=NMEMean, threshold=1).run(model, blurred_dl, dataloader_ref=dl)\n",
    "test_result"
   ]
  }
 ],
 "metadata": {
  "kernelspec": {
   "display_name": "Python 3 (ipykernel)",
   "language": "python",
   "name": "python3"
  },
  "language_info": {
   "codemirror_mode": {
    "name": "ipython",
    "version": 3
   },
   "file_extension": ".py",
   "mimetype": "text/x-python",
   "name": "python",
   "nbconvert_exporter": "python",
   "pygments_lexer": "ipython3",
   "version": "3.11.6"
  }
 },
 "nbformat": 4,
 "nbformat_minor": 4
}
