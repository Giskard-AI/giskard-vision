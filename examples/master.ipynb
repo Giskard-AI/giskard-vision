{
 "cells": [
  {
   "cell_type": "markdown",
   "metadata": {},
   "source": [
    "# Model comparisons"
   ]
  },
  {
   "cell_type": "code",
   "execution_count": 1,
   "metadata": {},
   "outputs": [],
   "source": [
    "from face_alignment import FaceAlignment, LandmarksType\n",
    "\n",
    "from loreal_poc.dataloaders.loaders import DataLoaderFFHQ\n",
    "from loreal_poc.dataloaders.wrappers import (\n",
    "    CroppedDataLoader,\n",
    "    ResizedDataLoader,\n",
    "    ColoredDataLoader,\n",
    "    BlurredDataLoader,\n",
    "    FilteredDataLoader,\n",
    "    HeadPoseDataLoader,\n",
    "    EthnicityDataLoader,\n",
    "    CachedDataLoader,\n",
    ")\n",
    "\n",
    "from loreal_poc.models.wrappers import OpenCVWrapper, FaceAlignmentWrapper\n",
    "from loreal_poc.tests.performance import NMEMean\n",
    "from loreal_poc.tests.base import Test, TestDiff\n",
    "from loreal_poc.marks.facial_parts import FacialParts"
   ]
  },
  {
   "cell_type": "markdown",
   "metadata": {},
   "source": [
    "### Loading FFHQ dataset"
   ]
  },
  {
   "cell_type": "code",
   "execution_count": 2,
   "metadata": {},
   "outputs": [],
   "source": [
    "dl_ref = DataLoaderFFHQ(\"ffhq\")"
   ]
  },
  {
   "cell_type": "markdown",
   "metadata": {},
   "source": [
    "### Loading landmark-detection models\n",
    "- FaceAlignment\n",
    "- OpenCV"
   ]
  },
  {
   "cell_type": "code",
   "execution_count": 3,
   "metadata": {},
   "outputs": [
    {
     "name": "stdout",
     "output_type": "stream",
     "text": [
      "loading data from : lbfmodel.yaml\n"
     ]
    },
    {
     "data": {
      "text/plain": [
       "<loreal_poc.models.wrappers.FaceAlignmentWrapper at 0x1607bcf90>"
      ]
     },
     "execution_count": 3,
     "metadata": {},
     "output_type": "execute_result"
    }
   ],
   "source": [
    "models = {\n",
    "    \"FaceAlignment\": FaceAlignmentWrapper(model=FaceAlignment(LandmarksType.TWO_D, device=\"cpu\", flip_input=False)),\n",
    "    \"OpenCV\": OpenCVWrapper(),\n",
    "}\n",
    "models.pop(\"FaceAlignment\")  # takes a long time"
   ]
  },
  {
   "cell_type": "code",
   "execution_count": 4,
   "metadata": {},
   "outputs": [],
   "source": [
    "results = []"
   ]
  },
  {
   "cell_type": "markdown",
   "metadata": {},
   "source": [
    "### Case 1: Cropped Images"
   ]
  },
  {
   "cell_type": "code",
   "execution_count": 5,
   "metadata": {},
   "outputs": [
    {
     "name": "stderr",
     "output_type": "stream",
     "text": [
      "OpenCV(4.8.1) /Users/runner/work/opencv-python/opencv-python/opencv/modules/core/src/matrix.cpp:1193: error: (-15:Bad number of channels) The total width is not divisible by the new number of channels in function 'reshape'\n",
      "\n",
      "OpenCV(4.8.1) /Users/runner/work/opencv-python/opencv-python/opencv/modules/core/src/matrix.cpp:1193: error: (-15:Bad number of channels) The total width is not divisible by the new number of channels in function 'reshape'\n",
      "\n",
      "OpenCV(4.8.1) /Users/runner/work/opencv-python/opencv-python/opencv/modules/core/src/matrix.cpp:1193: error: (-15:Bad number of channels) The total width is not divisible by the new number of channels in function 'reshape'\n",
      "\n",
      "OpenCV(4.8.1) /Users/runner/work/opencv-python/opencv-python/opencv/modules/core/src/matrix.cpp:1193: error: (-15:Bad number of channels) The total width is not divisible by the new number of channels in function 'reshape'\n",
      "\n",
      "OpenCV(4.8.1) /Users/runner/work/opencv-python/opencv-python/opencv/modules/core/src/matrix.cpp:1193: error: (-15:Bad number of channels) The total width is not divisible by the new number of channels in function 'reshape'\n",
      "\n",
      "OpenCV(4.8.1) /Users/runner/work/opencv-python/opencv-python/opencv/modules/core/src/matrix.cpp:1193: error: (-15:Bad number of channels) The total width is not divisible by the new number of channels in function 'reshape'\n",
      "\n",
      "OpenCV(4.8.1) /Users/runner/work/opencv-python/opencv-python/opencv/modules/core/src/matrix.cpp:1193: error: (-15:Bad number of channels) The total width is not divisible by the new number of channels in function 'reshape'\n",
      "\n",
      "/Users/rak/Documents/loreal-poc/loreal_poc/tests/performance.py:47: RuntimeWarning: Mean of empty slice\n",
      "  mes = np.nanmean(es, axis=1)\n",
      "OpenCV(4.8.1) /Users/runner/work/opencv-python/opencv-python/opencv/modules/core/src/matrix.cpp:1193: error: (-15:Bad number of channels) The total width is not divisible by the new number of channels in function 'reshape'\n",
      "\n",
      "OpenCV(4.8.1) /Users/runner/work/opencv-python/opencv-python/opencv/modules/core/src/matrix.cpp:1193: error: (-15:Bad number of channels) The total width is not divisible by the new number of channels in function 'reshape'\n",
      "\n",
      "OpenCV(4.8.1) /Users/runner/work/opencv-python/opencv-python/opencv/modules/core/src/matrix.cpp:1193: error: (-15:Bad number of channels) The total width is not divisible by the new number of channels in function 'reshape'\n",
      "\n",
      "OpenCV(4.8.1) /Users/runner/work/opencv-python/opencv-python/opencv/modules/core/src/matrix.cpp:1193: error: (-15:Bad number of channels) The total width is not divisible by the new number of channels in function 'reshape'\n",
      "\n",
      "OpenCV(4.8.1) /Users/runner/work/opencv-python/opencv-python/opencv/modules/core/src/matrix.cpp:1193: error: (-15:Bad number of channels) The total width is not divisible by the new number of channels in function 'reshape'\n",
      "\n",
      "OpenCV(4.8.1) /Users/runner/work/opencv-python/opencv-python/opencv/modules/core/src/matrix.cpp:1193: error: (-15:Bad number of channels) The total width is not divisible by the new number of channels in function 'reshape'\n",
      "\n",
      "OpenCV(4.8.1) /Users/runner/work/opencv-python/opencv-python/opencv/modules/core/src/matrix.cpp:1193: error: (-15:Bad number of channels) The total width is not divisible by the new number of channels in function 'reshape'\n",
      "\n"
     ]
    }
   ],
   "source": [
    "facial_parts = [FacialParts.LEFT_HALF.value, FacialParts.RIGHT_HALF.value]\n",
    "\n",
    "for model in models.values():\n",
    "    for fp in facial_parts:\n",
    "        dl = CroppedDataLoader(dl_ref, part=fp)\n",
    "        results.append(\n",
    "            TestDiff(metric=NMEMean, threshold=1)\n",
    "            .run(\n",
    "                model=model,\n",
    "                dataloader=dl,\n",
    "                dataloader_ref=dl_ref,\n",
    "                facial_part=fp,\n",
    "            )\n",
    "            .to_dict()\n",
    "        )"
   ]
  },
  {
   "cell_type": "markdown",
   "metadata": {},
   "source": [
    "### Case 2A: Resized Images"
   ]
  },
  {
   "cell_type": "code",
   "execution_count": 6,
   "metadata": {},
   "outputs": [],
   "source": [
    "for model in models.values():\n",
    "    dl = ResizedDataLoader(dl_ref, scales=0.5)\n",
    "    results.append(\n",
    "        TestDiff(metric=NMEMean, threshold=1)\n",
    "        .run(\n",
    "            model=model,\n",
    "            dataloader=dl,\n",
    "            dataloader_ref=dl_ref,\n",
    "        )\n",
    "        .to_dict()\n",
    "    )"
   ]
  },
  {
   "cell_type": "markdown",
   "metadata": {},
   "source": [
    "### Case 2B: Recolored Images"
   ]
  },
  {
   "cell_type": "code",
   "execution_count": 7,
   "metadata": {},
   "outputs": [],
   "source": [
    "for model in models.values():\n",
    "    transformed_dl = ColoredDataLoader(dl)\n",
    "    results.append(\n",
    "        TestDiff(metric=NMEMean, threshold=1)\n",
    "        .run(\n",
    "            model=model,\n",
    "            dataloader=transformed_dl,\n",
    "            dataloader_ref=dl,\n",
    "        )\n",
    "        .to_dict()\n",
    "    )"
   ]
  },
  {
   "cell_type": "markdown",
   "metadata": {},
   "source": [
    "### Case 2C: Blurred Images"
   ]
  },
  {
   "cell_type": "code",
   "execution_count": 8,
   "metadata": {},
   "outputs": [],
   "source": [
    "for model in models.values():\n",
    "    dl = BlurredDataLoader(dl_ref)\n",
    "    results.append(\n",
    "        TestDiff(metric=NMEMean, threshold=1)\n",
    "        .run(\n",
    "            model=model,\n",
    "            dataloader=dl,\n",
    "            dataloader_ref=dl_ref,\n",
    "        )\n",
    "        .to_dict()\n",
    "    )"
   ]
  },
  {
   "cell_type": "markdown",
   "metadata": {},
   "source": [
    "### Case 3: Head Pose"
   ]
  },
  {
   "cell_type": "code",
   "execution_count": 9,
   "metadata": {},
   "outputs": [],
   "source": [
    "cached_dl = CachedDataLoader(HeadPoseDataLoader(dl_ref), cache_size=None, cache_img=False, cache_marks=False)\n",
    "\n",
    "\n",
    "def positive_roll(elt):\n",
    "    return elt[2][\"headPose\"][\"roll\"] > 0\n",
    "\n",
    "\n",
    "def negative_roll(elt):\n",
    "    return elt[2][\"headPose\"][\"roll\"] < 0\n",
    "\n",
    "\n",
    "head_poses = [positive_roll, negative_roll]\n",
    "\n",
    "for model in models.values():\n",
    "    for hp in head_poses:\n",
    "        dl = FilteredDataLoader(cached_dl, hp)\n",
    "        results.append(\n",
    "            TestDiff(metric=NMEMean, threshold=1)\n",
    "            .run(\n",
    "                model=model,\n",
    "                dataloader=dl,\n",
    "                dataloader_ref=dl_ref,\n",
    "            )\n",
    "            .to_dict()\n",
    "        )"
   ]
  },
  {
   "cell_type": "markdown",
   "metadata": {},
   "source": [
    "### Case 4: Ethnicity"
   ]
  },
  {
   "cell_type": "code",
   "execution_count": 10,
   "metadata": {},
   "outputs": [
    {
     "name": "stderr",
     "output_type": "stream",
     "text": [
      "2024-01-09 10:50:51.969590: I tensorflow/core/platform/cpu_feature_guard.cc:182] This TensorFlow binary is optimized to use available CPU instructions in performance-critical operations.\n",
      "To enable the following instructions: AVX2 FMA, in other operations, rebuild TensorFlow with the appropriate compiler flags.\n"
     ]
    }
   ],
   "source": [
    "ethnicity_dl = EthnicityDataLoader(dl_ref, ethnicity_map={\"indian\": \"asian\"})\n",
    "cached_dl = CachedDataLoader(ethnicity_dl, cache_size=None, cache_img=False, cache_marks=False)\n",
    "\n",
    "\n",
    "def asian_ethnicity(elt):\n",
    "    return elt[2][\"ethnicity\"] == \"asian\"\n",
    "\n",
    "\n",
    "def white_ethnicity(elt):\n",
    "    return elt[2][\"ethnicity\"] == \"white\"\n",
    "\n",
    "\n",
    "ethnicities = [asian_ethnicity, white_ethnicity]\n",
    "\n",
    "for model in models.values():\n",
    "    for e in ethnicities:\n",
    "        dl = FilteredDataLoader(cached_dl, e)\n",
    "        results.append(\n",
    "            TestDiff(metric=NMEMean, threshold=1)\n",
    "            .run(\n",
    "                model=model,\n",
    "                dataloader=dl,\n",
    "                dataloader_ref=dl_ref,\n",
    "            )\n",
    "            .to_dict()\n",
    "        )"
   ]
  },
  {
   "cell_type": "code",
   "execution_count": 13,
   "metadata": {},
   "outputs": [
    {
     "data": {
      "text/html": [
       "<div>\n",
       "<style scoped>\n",
       "    .dataframe tbody tr th:only-of-type {\n",
       "        vertical-align: middle;\n",
       "    }\n",
       "\n",
       "    .dataframe tbody tr th {\n",
       "        vertical-align: top;\n",
       "    }\n",
       "\n",
       "    .dataframe thead th {\n",
       "        text-align: right;\n",
       "    }\n",
       "</style>\n",
       "<table border=\"1\" class=\"dataframe\">\n",
       "  <thead>\n",
       "    <tr style=\"text-align: right;\">\n",
       "      <th></th>\n",
       "      <th>test_name</th>\n",
       "      <th>metric_name</th>\n",
       "      <th>metric_value</th>\n",
       "      <th>threshold</th>\n",
       "      <th>passed</th>\n",
       "      <th>facial_part</th>\n",
       "      <th>model_name</th>\n",
       "      <th>dataloader_name</th>\n",
       "    </tr>\n",
       "  </thead>\n",
       "  <tbody>\n",
       "    <tr>\n",
       "      <th>0</th>\n",
       "      <td>TestDiff</td>\n",
       "      <td>NME_mean</td>\n",
       "      <td>4.054881</td>\n",
       "      <td>1</td>\n",
       "      <td>False</td>\n",
       "      <td>left half</td>\n",
       "      <td>OpenCV</td>\n",
       "      <td>ffhq cropped on left half</td>\n",
       "    </tr>\n",
       "    <tr>\n",
       "      <th>1</th>\n",
       "      <td>TestDiff</td>\n",
       "      <td>NME_mean</td>\n",
       "      <td>11.737949</td>\n",
       "      <td>1</td>\n",
       "      <td>False</td>\n",
       "      <td>right half</td>\n",
       "      <td>OpenCV</td>\n",
       "      <td>ffhq cropped on right half</td>\n",
       "    </tr>\n",
       "    <tr>\n",
       "      <th>2</th>\n",
       "      <td>TestDiff</td>\n",
       "      <td>NME_mean</td>\n",
       "      <td>0.068788</td>\n",
       "      <td>1</td>\n",
       "      <td>True</td>\n",
       "      <td>entire face</td>\n",
       "      <td>OpenCV</td>\n",
       "      <td>ffhq resizing with ratios: 0.5</td>\n",
       "    </tr>\n",
       "    <tr>\n",
       "      <th>3</th>\n",
       "      <td>TestDiff</td>\n",
       "      <td>NME_mean</td>\n",
       "      <td>0.032044</td>\n",
       "      <td>1</td>\n",
       "      <td>True</td>\n",
       "      <td>entire face</td>\n",
       "      <td>OpenCV</td>\n",
       "      <td>ffhq resizing with ratios: 0.5 altered with color mode 7</td>\n",
       "    </tr>\n",
       "    <tr>\n",
       "      <th>4</th>\n",
       "      <td>TestDiff</td>\n",
       "      <td>NME_mean</td>\n",
       "      <td>0.065431</td>\n",
       "      <td>1</td>\n",
       "      <td>True</td>\n",
       "      <td>entire face</td>\n",
       "      <td>OpenCV</td>\n",
       "      <td>ffhq blurred</td>\n",
       "    </tr>\n",
       "    <tr>\n",
       "      <th>5</th>\n",
       "      <td>TestDiff</td>\n",
       "      <td>NME_mean</td>\n",
       "      <td>0.232795</td>\n",
       "      <td>1</td>\n",
       "      <td>True</td>\n",
       "      <td>entire face</td>\n",
       "      <td>OpenCV</td>\n",
       "      <td>(Cached (ffhq) with head-pose) filtered using 'positive_roll'</td>\n",
       "    </tr>\n",
       "    <tr>\n",
       "      <th>6</th>\n",
       "      <td>TestDiff</td>\n",
       "      <td>NME_mean</td>\n",
       "      <td>0.133026</td>\n",
       "      <td>1</td>\n",
       "      <td>True</td>\n",
       "      <td>entire face</td>\n",
       "      <td>OpenCV</td>\n",
       "      <td>(Cached (ffhq) with head-pose) filtered using 'negative_roll'</td>\n",
       "    </tr>\n",
       "    <tr>\n",
       "      <th>7</th>\n",
       "      <td>TestDiff</td>\n",
       "      <td>NME_mean</td>\n",
       "      <td>0.354641</td>\n",
       "      <td>1</td>\n",
       "      <td>True</td>\n",
       "      <td>entire face</td>\n",
       "      <td>OpenCV</td>\n",
       "      <td>(Cached (ffhq) with ethnicity) filtered using 'asian_ethnicity'</td>\n",
       "    </tr>\n",
       "    <tr>\n",
       "      <th>8</th>\n",
       "      <td>TestDiff</td>\n",
       "      <td>NME_mean</td>\n",
       "      <td>0.333034</td>\n",
       "      <td>1</td>\n",
       "      <td>True</td>\n",
       "      <td>entire face</td>\n",
       "      <td>OpenCV</td>\n",
       "      <td>(Cached (ffhq) with ethnicity) filtered using 'white_ethnicity'</td>\n",
       "    </tr>\n",
       "  </tbody>\n",
       "</table>\n",
       "</div>"
      ],
      "text/plain": [
       "  test_name metric_name  metric_value  threshold  passed  facial_part  \\\n",
       "0  TestDiff    NME_mean      4.054881          1   False    left half   \n",
       "1  TestDiff    NME_mean     11.737949          1   False   right half   \n",
       "2  TestDiff    NME_mean      0.068788          1    True  entire face   \n",
       "3  TestDiff    NME_mean      0.032044          1    True  entire face   \n",
       "4  TestDiff    NME_mean      0.065431          1    True  entire face   \n",
       "5  TestDiff    NME_mean      0.232795          1    True  entire face   \n",
       "6  TestDiff    NME_mean      0.133026          1    True  entire face   \n",
       "7  TestDiff    NME_mean      0.354641          1    True  entire face   \n",
       "8  TestDiff    NME_mean      0.333034          1    True  entire face   \n",
       "\n",
       "  model_name                                                  dataloader_name  \n",
       "0     OpenCV                                        ffhq cropped on left half  \n",
       "1     OpenCV                                       ffhq cropped on right half  \n",
       "2     OpenCV                                   ffhq resizing with ratios: 0.5  \n",
       "3     OpenCV         ffhq resizing with ratios: 0.5 altered with color mode 7  \n",
       "4     OpenCV                                                     ffhq blurred  \n",
       "5     OpenCV    (Cached (ffhq) with head-pose) filtered using 'positive_roll'  \n",
       "6     OpenCV    (Cached (ffhq) with head-pose) filtered using 'negative_roll'  \n",
       "7     OpenCV  (Cached (ffhq) with ethnicity) filtered using 'asian_ethnicity'  \n",
       "8     OpenCV  (Cached (ffhq) with ethnicity) filtered using 'white_ethnicity'  "
      ]
     },
     "metadata": {},
     "output_type": "display_data"
    },
    {
     "data": {
      "text/html": [
       "<div>\n",
       "<style scoped>\n",
       "    .dataframe tbody tr th:only-of-type {\n",
       "        vertical-align: middle;\n",
       "    }\n",
       "\n",
       "    .dataframe tbody tr th {\n",
       "        vertical-align: top;\n",
       "    }\n",
       "\n",
       "    .dataframe thead th {\n",
       "        text-align: right;\n",
       "    }\n",
       "</style>\n",
       "<table border=\"1\" class=\"dataframe\">\n",
       "  <thead>\n",
       "    <tr style=\"text-align: right;\">\n",
       "      <th></th>\n",
       "    </tr>\n",
       "  </thead>\n",
       "  <tbody>\n",
       "  </tbody>\n",
       "</table>\n",
       "</div>"
      ],
      "text/plain": [
       "Empty DataFrame\n",
       "Columns: []\n",
       "Index: []"
      ]
     },
     "execution_count": 13,
     "metadata": {},
     "output_type": "execute_result"
    }
   ],
   "source": [
    "import pandas as pd\n",
    "\n",
    "pd.set_option(\"display.max_colwidth\", None)\n",
    "report = pd.DataFrame(results)\n",
    "# report.groupby([\"model_name\"]).apply(display) # doesn't work in CI"
   ]
  }
 ],
 "metadata": {
  "kernelspec": {
   "display_name": "Python 3 (ipykernel)",
   "language": "python",
   "name": "python3"
  },
  "language_info": {
   "codemirror_mode": {
    "name": "ipython",
    "version": 3
   },
   "file_extension": ".py",
   "mimetype": "text/x-python",
   "name": "python",
   "nbconvert_exporter": "python",
   "pygments_lexer": "ipython3",
   "version": "3.11.7"
  }
 },
 "nbformat": 4,
 "nbformat_minor": 4
}
