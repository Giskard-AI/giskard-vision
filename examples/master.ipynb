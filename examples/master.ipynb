{
 "cells": [
  {
   "cell_type": "markdown",
   "metadata": {},
   "source": [
    "# Model comparisons"
   ]
  },
  {
   "cell_type": "code",
   "execution_count": null,
   "metadata": {},
   "outputs": [],
   "source": [
    "from face_alignment import FaceAlignment, LandmarksType\n",
    "\n",
    "from loreal_poc.dataloaders.loaders import DataLoaderFFHQ\n",
    "from loreal_poc.dataloaders.wrappers import (\n",
    "    CroppedDataLoader,\n",
    "    ResizedDataLoader,\n",
    "    ColoredDataLoader,\n",
    "    BlurredDataLoader,\n",
    "    FilteredDataLoader,\n",
    "    HeadPoseDataLoader,\n",
    "    EthnicityDataLoader,\n",
    "    CachedDataLoader,\n",
    ")\n",
    "\n",
    "from loreal_poc.models.wrappers import OpenCVWrapper, FaceAlignmentWrapper\n",
    "from loreal_poc.tests.performance import NMEMean\n",
    "from loreal_poc.tests.base import Test, TestDiff\n",
    "from loreal_poc.marks.facial_parts import FacialParts"
   ]
  },
  {
   "cell_type": "markdown",
   "metadata": {},
   "source": [
    "### Loading FFHQ dataset"
   ]
  },
  {
   "cell_type": "code",
   "execution_count": null,
   "metadata": {},
   "outputs": [],
   "source": [
    "dl_ref = DataLoaderFFHQ(\"ffhq\")"
   ]
  },
  {
   "cell_type": "markdown",
   "metadata": {},
   "source": [
    "### Loading landmark-detection models\n",
    "- FaceAlignment\n",
    "- OpenCV"
   ]
  },
  {
   "cell_type": "code",
   "execution_count": null,
   "metadata": {},
   "outputs": [],
   "source": [
    "models = {\n",
    "    \"FaceAlignment\": FaceAlignmentWrapper(model=FaceAlignment(LandmarksType.TWO_D, device=\"cpu\", flip_input=False)),\n",
    "    \"OpenCV\": OpenCVWrapper(),\n",
    "}\n",
    "models.pop(\"FaceAlignment\")"
   ]
  },
  {
   "cell_type": "code",
   "execution_count": null,
   "metadata": {},
   "outputs": [],
   "source": [
    "results = []"
   ]
  },
  {
   "cell_type": "markdown",
   "metadata": {},
   "source": [
    "### Case 1: Cropped Images"
   ]
  },
  {
   "cell_type": "code",
   "execution_count": null,
   "metadata": {},
   "outputs": [],
   "source": [
    "facial_parts = [FacialParts.LEFT_HALF.value, FacialParts.RIGHT_HALF.value]\n",
    "\n",
    "for model in models.values():\n",
    "    for fp in facial_parts:\n",
    "        dl = CroppedDataLoader(dl_ref, part=fp)\n",
    "        results.append(\n",
    "            TestDiff(metric=NMEMean, threshold=1)\n",
    "            .run(\n",
    "                model=model,\n",
    "                dataloader=dl,\n",
    "                dataloader_ref=dl_ref,\n",
    "                facial_part=fp,\n",
    "            )\n",
    "            .to_dict()\n",
    "        )"
   ]
  },
  {
   "cell_type": "markdown",
   "metadata": {},
   "source": [
    "### Case 2A: Resized Images"
   ]
  },
  {
   "cell_type": "code",
   "execution_count": null,
   "metadata": {},
   "outputs": [],
   "source": [
    "for model in models.values():\n",
    "    dl = ResizedDataLoader(dl_ref, scales=0.5)\n",
    "    results.append(\n",
    "        TestDiff(metric=NMEMean, threshold=1)\n",
    "        .run(\n",
    "            model=model,\n",
    "            dataloader=dl,\n",
    "            dataloader_ref=dl_ref,\n",
    "        )\n",
    "        .to_dict()\n",
    "    )"
   ]
  },
  {
   "cell_type": "markdown",
   "metadata": {},
   "source": [
    "### Case 2B: Recolored Images"
   ]
  },
  {
   "cell_type": "code",
   "execution_count": null,
   "metadata": {},
   "outputs": [],
   "source": [
    "for model in models.values():\n",
    "    transformed_dl = ColoredDataLoader(dl)\n",
    "    results.append(\n",
    "        TestDiff(metric=NMEMean, threshold=1)\n",
    "        .run(\n",
    "            model=model,\n",
    "            dataloader=transformed_dl,\n",
    "            dataloader_ref=dl,\n",
    "        )\n",
    "        .to_dict()\n",
    "    )"
   ]
  },
  {
   "cell_type": "markdown",
   "metadata": {},
   "source": [
    "### Case 2C: Blurred Images"
   ]
  },
  {
   "cell_type": "code",
   "execution_count": null,
   "metadata": {},
   "outputs": [],
   "source": [
    "for model in models.values():\n",
    "    dl = BlurredDataLoader(dl_ref)\n",
    "    results.append(\n",
    "        TestDiff(metric=NMEMean, threshold=1)\n",
    "        .run(\n",
    "            model=model,\n",
    "            dataloader=dl,\n",
    "            dataloader_ref=dl_ref,\n",
    "        )\n",
    "        .to_dict()\n",
    "    )"
   ]
  },
  {
   "cell_type": "markdown",
   "metadata": {},
   "source": [
    "### Case 3: Head Pose"
   ]
  },
  {
   "cell_type": "code",
   "execution_count": null,
   "metadata": {},
   "outputs": [],
   "source": [
    "cached_dl = CachedDataLoader(HeadPoseDataLoader(dl_ref), cache_size=None, cache_img=False, cache_marks=False)\n",
    "\n",
    "head_poses = [lambda elt: elt[2][\"headPose\"][\"roll\"] > 0, lambda elt: elt[2][\"headPose\"][\"roll\"] < 0]\n",
    "\n",
    "for model in models.values():\n",
    "    for hp in head_poses:\n",
    "        dl = FilteredDataLoader(cached_dl, hp)\n",
    "        results.append(\n",
    "            TestDiff(metric=NMEMean, threshold=1)\n",
    "            .run(\n",
    "                model=model,\n",
    "                dataloader=dl,\n",
    "                dataloader_ref=dl_ref,\n",
    "            )\n",
    "            .to_dict()\n",
    "        )"
   ]
  },
  {
   "cell_type": "markdown",
   "metadata": {},
   "source": [
    "### Case 4: Ethnicity"
   ]
  },
  {
   "cell_type": "code",
   "execution_count": null,
   "metadata": {},
   "outputs": [],
   "source": [
    "ethnicity_dl = EthnicityDataLoader(dl_ref, ethnicity_map={\"indian\": \"asian\"})\n",
    "cached_dl = CachedDataLoader(ethnicity_dl, cache_size=None, cache_img=False, cache_marks=False)\n",
    "\n",
    "ethnicities = [lambda elt: elt[2][\"ethnicity\"] == \"asian\"]\n",
    "\n",
    "for model in models.values():\n",
    "    for e in ethnicities:\n",
    "        dl = FilteredDataLoader(cached_dl, e)\n",
    "        results.append(\n",
    "            TestDiff(metric=NMEMean, threshold=1)\n",
    "            .run(\n",
    "                model=model,\n",
    "                dataloader=dl,\n",
    "                dataloader_ref=dl_ref,\n",
    "            )\n",
    "            .to_dict()\n",
    "        )"
   ]
  },
  {
   "cell_type": "code",
   "execution_count": null,
   "metadata": {},
   "outputs": [],
   "source": [
    "import pandas as pd\n",
    "\n",
    "pd.set_option(\"display.max_colwidth\", None)\n",
    "report = pd.DataFrame(results)\n",
    "report.groupby([\"model_name\"]).apply(display)"
   ]
  }
 ],
 "metadata": {
  "kernelspec": {
   "display_name": "Python 3 (ipykernel)",
   "language": "python",
   "name": "python3"
  },
  "language_info": {
   "codemirror_mode": {
    "name": "ipython",
    "version": 3
   },
   "file_extension": ".py",
   "mimetype": "text/x-python",
   "name": "python",
   "nbconvert_exporter": "python",
   "pygments_lexer": "ipython3",
   "version": "3.11.7"
  }
 },
 "nbformat": 4,
 "nbformat_minor": 4
}
