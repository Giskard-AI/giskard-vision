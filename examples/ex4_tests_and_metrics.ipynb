{
 "cells": [
  {
   "cell_type": "code",
   "execution_count": 1,
   "metadata": {
    "collapsed": false
   },
   "outputs": [],
   "source": [
    "from face_alignment import FaceAlignment, LandmarksType\n",
    "\n",
    "from loreal_poc.datasets.dataset_300W import Dataset300W\n",
    "from loreal_poc.visualisation.draw import draw_marks\n",
    "from loreal_poc.models.wrapper import FaceLandmarksModelWrapper\n",
    "from loreal_poc.tests.performance import NME_mean\n",
    "from loreal_poc.tests.base import Test, TestDiff"
   ]
  },
  {
   "cell_type": "markdown",
   "metadata": {
    "collapsed": false
   },
   "source": [
    "Benchmark"
   ]
  },
  {
   "cell_type": "code",
   "execution_count": 2,
   "metadata": {
    "collapsed": false
   },
   "outputs": [],
   "source": [
    "ds = Dataset300W(dir_path=\"300W/sample\")"
   ]
  },
  {
   "cell_type": "markdown",
   "metadata": {
    "collapsed": false
   },
   "source": [
    "L'Oreal"
   ]
  },
  {
   "cell_type": "code",
   "execution_count": 3,
   "metadata": {
    "collapsed": false
   },
   "outputs": [],
   "source": [
    "model = FaceLandmarksModelWrapper(model=FaceAlignment(LandmarksType.TWO_D, device=\"cpu\", flip_input=False))"
   ]
  },
  {
   "cell_type": "code",
   "execution_count": 4,
   "metadata": {
    "collapsed": false
   },
   "outputs": [
    {
     "data": {
      "text/html": [
       "\n",
       "               <h4><span style=\"color:green;\">✓</span> Test \"NME_mean\" succeeded</h4>\n",
       "               <p>Description: Mean of normalised mean Euclidean distances across images</p>\n",
       "               <p>Metric: <b>0.0623</b> (threshold = 1)</p>\n",
       "               \n",
       "               <p>Prediction time: 37.85 s.</p>\n",
       "               \n",
       "               "
      ],
      "text/plain": [
       "\n",
       "               Test \"NME_mean\" succeeded\n",
       "               Description: Mean of normalised mean Euclidean distances across images\n",
       "               Metric: 0.0623 (threshold = 1)\n",
       "               \n",
       "               Prediction time: 37.85 s.\n",
       "               \n",
       "               "
      ]
     },
     "execution_count": 4,
     "metadata": {},
     "output_type": "execute_result"
    }
   ],
   "source": [
    "Test(metric=NME_mean, threshold=1).run(model=model, dataset=ds)"
   ]
  },
  {
   "cell_type": "code",
   "execution_count": 5,
   "metadata": {},
   "outputs": [
    {
     "name": "stderr",
     "output_type": "stream",
     "text": [
      "/Users/rak/Documents/loreal-poc/.venv/lib/python3.11/site-packages/face_alignment/api.py:147: UserWarning: No faces were detected.\n",
      "  warnings.warn(\"No faces were detected.\")\n",
      "/Users/rak/Documents/loreal-poc/loreal_poc/tests/performance.py:35: RuntimeWarning: Mean of empty slice\n",
      "  mes = np.nanmean(es, axis=1)\n"
     ]
    },
    {
     "data": {
      "text/html": [
       "\n",
       "               <h4><span style=\"color:green;\">✓</span> Test \"NME_mean\" succeeded</h4>\n",
       "               <p>Description: Mean of normalised mean Euclidean distances across images</p>\n",
       "               <p>Metric: <b>0.6412</b> (threshold = 1)</p>\n",
       "               Prediction fail rate: 0.4\n",
       "               <p>Prediction time: 53.54 s.</p>\n",
       "               <p>Data preprocessing time: 0.09 s.</p>\n",
       "               "
      ],
      "text/plain": [
       "\n",
       "               Test \"NME_mean\" succeeded\n",
       "               Description: Mean of normalised mean Euclidean distances across images\n",
       "               Metric: 0.6412 (threshold = 1)\n",
       "               Prediction fail rate: 0.4\n",
       "               Prediction time: 53.54 s.\n",
       "               Data preprocessing time: 0.09 s.\n",
       "               "
      ]
     },
     "execution_count": 5,
     "metadata": {},
     "output_type": "execute_result"
    }
   ],
   "source": [
    "from loreal_poc.transformation_functions.transformation_functions import crop_based_on_facial_part\n",
    "from loreal_poc.datasets.base import FacialParts\n",
    "facial_part = FacialParts.left_half\n",
    "\n",
    "cropped_ds = crop_based_on_facial_part(ds, facial_part, rel_margin=0.00)\n",
    "\n",
    "TestDiff(metric=NME_mean, threshold=1).run(model=model, dataset=ds, transformation_function=crop_based_on_facial_part, transformation_function_kwargs={\"dataset\": ds, \"facial_part\": facial_part, \"rel_margin\": 0.00})"
   ]
  }
 ],
 "metadata": {
  "kernelspec": {
   "display_name": "Python 3",
   "language": "python",
   "name": "python3"
  },
  "language_info": {
   "codemirror_mode": {
    "name": "ipython",
    "version": 3
   },
   "file_extension": ".py",
   "mimetype": "text/x-python",
   "name": "python",
   "nbconvert_exporter": "python",
   "pygments_lexer": "ipython3",
   "version": "3.11.6"
  }
 },
 "nbformat": 4,
 "nbformat_minor": 0
}
