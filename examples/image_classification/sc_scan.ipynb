{
 "cells": [
  {
   "cell_type": "code",
   "execution_count": null,
   "metadata": {},
   "outputs": [],
   "source": [
    "from giskard_vision.image_classification.models.wrappers import SkinCancerHFModel\n",
    "from giskard_vision.image_classification.dataloaders.loaders import DataLoaderSkinCancer\n",
    "from giskard_vision import scan\n",
    "\n",
    "model = SkinCancerHFModel()\n",
    "dataset = DataLoaderSkinCancer()\n",
    "\n",
    "results = scan(model=model, dataset=dataset, raise_exceptions=True)"
   ]
  }
 ],
 "metadata": {
  "kernelspec": {
   "display_name": ".venv",
   "language": "python",
   "name": "python3"
  },
  "language_info": {
   "codemirror_mode": {
    "name": "ipython",
    "version": 3
   },
   "file_extension": ".py",
   "mimetype": "text/x-python",
   "name": "python",
   "nbconvert_exporter": "python",
   "pygments_lexer": "ipython3",
   "version": "3.10.13"
  }
 },
 "nbformat": 4,
 "nbformat_minor": 2
}
