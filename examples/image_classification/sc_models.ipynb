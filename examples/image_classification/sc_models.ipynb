{
 "cells": [
  {
   "cell_type": "code",
   "execution_count": null,
   "id": "9507a745-37b9-48ab-8ffe-68cc1de7bae7",
   "metadata": {},
   "outputs": [],
   "source": [
    "from giskard_vision.image_classification.dataloaders.loaders import DataLoaderSkinCancerHuggingFaceDataset"
   ]
  },
  {
   "cell_type": "code",
   "execution_count": null,
   "id": "318972bd-635f-4be2-8b05-dcdfc74f4175",
   "metadata": {},
   "outputs": [],
   "source": [
    "sc = DataLoaderSkinCancerHuggingFaceDataset()"
   ]
  },
  {
   "cell_type": "code",
   "execution_count": null,
   "id": "acda20b2-fbd2-440d-a1cf-065e1e1056ba",
   "metadata": {},
   "outputs": [],
   "source": [
    "from giskard_vision.image_classification.models.wrappers import *"
   ]
  },
  {
   "cell_type": "code",
   "execution_count": null,
   "id": "c1254d8c-33f1-4658-b9bd-a01230c4506e",
   "metadata": {},
   "outputs": [],
   "source": [
    "m1 = SkinCancerHuggingFaceModel()"
   ]
  },
  {
   "cell_type": "code",
   "execution_count": null,
   "id": "a2a21164-cbdb-4f19-8106-3762dc037501",
   "metadata": {},
   "outputs": [],
   "source": [
    "m1.predict_probas(sc.get_image(0))"
   ]
  },
  {
   "cell_type": "code",
   "execution_count": null,
   "id": "e7905124-ed98-4518-b1a5-c94eb419b44f",
   "metadata": {},
   "outputs": [],
   "source": [
    "m1.predict_image(sc.get_image(0))"
   ]
  },
  {
   "cell_type": "code",
   "execution_count": null,
   "id": "784e3266-b1b9-447d-accf-c655f110989c",
   "metadata": {},
   "outputs": [],
   "source": [
    "m1.predict(sc)"
   ]
  },
  {
   "cell_type": "code",
   "execution_count": null,
   "id": "0fcf57af-08b4-4d83-922d-cebabeb420ee",
   "metadata": {},
   "outputs": [],
   "source": [
    "m2 = MicrosoftResNetImageNet50HuggingFaceModel()"
   ]
  },
  {
   "cell_type": "code",
   "execution_count": null,
   "id": "978875f0-1598-463f-a0f6-8e4859e9b69f",
   "metadata": {},
   "outputs": [],
   "source": [
    "m2.predict_probas(sc.get_image(0))"
   ]
  },
  {
   "cell_type": "code",
   "execution_count": null,
   "id": "5cd590cc-e56e-4027-beea-545725e5a66b",
   "metadata": {},
   "outputs": [],
   "source": [
    "m2.predict_image(sc.get_image(0))"
   ]
  },
  {
   "cell_type": "code",
   "execution_count": null,
   "id": "10dcebb6-10fe-4c24-8fd1-ca44549da624",
   "metadata": {},
   "outputs": [],
   "source": [
    "m3 = Jsli96ResNetImageNetHuggingFaceModel()"
   ]
  },
  {
   "cell_type": "code",
   "execution_count": null,
   "id": "902ac845-2cfe-4f03-9d09-6997f1a32d49",
   "metadata": {},
   "outputs": [],
   "source": [
    "m2.predict_probas(sc.get_image(0))"
   ]
  }
 ],
 "metadata": {
  "kernelspec": {
   "display_name": "Python 3 (ipykernel)",
   "language": "python",
   "name": "python3"
  },
  "language_info": {
   "codemirror_mode": {
    "name": "ipython",
    "version": 3
   },
   "file_extension": ".py",
   "mimetype": "text/x-python",
   "name": "python",
   "nbconvert_exporter": "python",
   "pygments_lexer": "ipython3",
   "version": "3.10.13"
  }
 },
 "nbformat": 4,
 "nbformat_minor": 5
}
