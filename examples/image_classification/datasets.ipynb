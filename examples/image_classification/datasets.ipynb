{
 "cells": [
  {
   "cell_type": "code",
   "execution_count": 1,
   "id": "0ff37ce4-4f98-4b98-9fe4-0b943c9c8949",
   "metadata": {},
   "outputs": [],
   "source": [
    "from giskard_vision.image_classification.dataloaders.loaders import *"
   ]
  },
  {
   "cell_type": "code",
   "execution_count": 2,
   "id": "cd697b1c-ab0b-4f8e-8183-9e5fe09b39c6",
   "metadata": {},
   "outputs": [],
   "source": [
    "gcs = DataLoaderGeirhosConflictStimuli()"
   ]
  },
  {
   "cell_type": "code",
   "execution_count": 3,
   "id": "ca0a76d9-20c0-41bc-a194-a3817ed85d81",
   "metadata": {},
   "outputs": [
    {
     "name": "stderr",
     "output_type": "stream",
     "text": [
      "/Users/inoki/.virtualenvs/giskard-vision/lib/python3.11/site-packages/tqdm/auto.py:21: TqdmWarning: IProgress not found. Please update jupyter and ipywidgets. See https://ipywidgets.readthedocs.io/en/stable/user_install.html\n",
      "  from .autonotebook import tqdm as notebook_tqdm\n"
     ]
    }
   ],
   "source": [
    "sc = DataLoaderSkinCancerHuggingFaceDataset()"
   ]
  },
  {
   "cell_type": "code",
   "execution_count": 4,
   "id": "4f55117c-5641-4b36-be15-613228caa025",
   "metadata": {},
   "outputs": [
    {
     "name": "stderr",
     "output_type": "stream",
     "text": [
      "2024-07-23 12:13:33.681629: W tensorflow/core/kernels/data/cache_dataset_ops.cc:858] The calling iterator did not fully read the dataset being cached. In order to avoid unexpected truncation of the dataset, the partially cached contents of the dataset  will be discarded. This can happen if you have an input pipeline similar to `dataset.cache().take(k).repeat()`. You should use `dataset.take(k).cache().repeat()` instead.\n"
     ]
    },
    {
     "data": {
      "text/plain": [
       "(224, 224, 3)"
      ]
     },
     "execution_count": 4,
     "metadata": {},
     "output_type": "execute_result"
    }
   ],
   "source": [
    "gcs.get_image(0).shape"
   ]
  },
  {
   "cell_type": "code",
   "execution_count": 5,
   "id": "2108d5be-5bd4-45dd-a7b9-54c7128f279a",
   "metadata": {},
   "outputs": [
    {
     "name": "stderr",
     "output_type": "stream",
     "text": [
      "2024-07-23 12:13:33.714646: W tensorflow/core/kernels/data/cache_dataset_ops.cc:858] The calling iterator did not fully read the dataset being cached. In order to avoid unexpected truncation of the dataset, the partially cached contents of the dataset  will be discarded. This can happen if you have an input pipeline similar to `dataset.cache().take(k).repeat()`. You should use `dataset.take(k).cache().repeat()` instead.\n"
     ]
    },
    {
     "data": {
      "text/plain": [
       "array(['clock'], dtype='<U5')"
      ]
     },
     "execution_count": 5,
     "metadata": {},
     "output_type": "execute_result"
    }
   ],
   "source": [
    "gcs.get_labels(0)"
   ]
  },
  {
   "cell_type": "code",
   "execution_count": 6,
   "id": "356c2eac-0f64-4915-9c44-abec08d30dc8",
   "metadata": {},
   "outputs": [
    {
     "name": "stderr",
     "output_type": "stream",
     "text": [
      "2024-07-23 12:13:33.744932: W tensorflow/core/kernels/data/cache_dataset_ops.cc:858] The calling iterator did not fully read the dataset being cached. In order to avoid unexpected truncation of the dataset, the partially cached contents of the dataset  will be discarded. This can happen if you have an input pipeline similar to `dataset.cache().take(k).repeat()`. You should use `dataset.take(k).cache().repeat()` instead.\n"
     ]
    },
    {
     "data": {
      "text/plain": [
       "{'texture_label': 13}"
      ]
     },
     "execution_count": 6,
     "metadata": {},
     "output_type": "execute_result"
    }
   ],
   "source": [
    "gcs.get_meta(0).data"
   ]
  },
  {
   "cell_type": "code",
   "execution_count": 7,
   "id": "051cc491-6b83-4368-b325-d8c787e1993d",
   "metadata": {},
   "outputs": [
    {
     "data": {
      "text/plain": [
       "(600, 450)"
      ]
     },
     "execution_count": 7,
     "metadata": {},
     "output_type": "execute_result"
    }
   ],
   "source": [
    "sc.get_image(0).size"
   ]
  },
  {
   "cell_type": "code",
   "execution_count": 8,
   "id": "e5a92e72-93d2-49e9-85dc-8e718318ac35",
   "metadata": {},
   "outputs": [
    {
     "data": {
      "text/plain": [
       "array(['actinic_keratoses'], dtype='<U17')"
      ]
     },
     "execution_count": 8,
     "metadata": {},
     "output_type": "execute_result"
    }
   ],
   "source": [
    "sc.get_labels(0)"
   ]
  },
  {
   "cell_type": "code",
   "execution_count": 9,
   "id": "fb6f0d33-d7c2-4554-8e05-60d00760494a",
   "metadata": {},
   "outputs": [
    {
     "data": {
      "text/plain": [
       "{'age': 75.0, 'sex': 'female', 'localization': 'lower extremity'}"
      ]
     },
     "execution_count": 9,
     "metadata": {},
     "output_type": "execute_result"
    }
   ],
   "source": [
    "sc.get_meta(0).data"
   ]
  }
 ],
 "metadata": {
  "kernelspec": {
   "display_name": "Python 3 (ipykernel)",
   "language": "python",
   "name": "python3"
  },
  "language_info": {
   "codemirror_mode": {
    "name": "ipython",
    "version": 3
   },
   "file_extension": ".py",
   "mimetype": "text/x-python",
   "name": "python",
   "nbconvert_exporter": "python",
   "pygments_lexer": "ipython3",
   "version": "3.11.9"
  }
 },
 "nbformat": 4,
 "nbformat_minor": 5
}
