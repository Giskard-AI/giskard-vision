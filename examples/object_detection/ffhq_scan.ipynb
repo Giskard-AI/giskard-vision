{
 "cells": [
  {
   "cell_type": "code",
   "execution_count": null,
   "id": "42e1b709-659a-4a80-ba8f-7b5f58eefaf7",
   "metadata": {},
   "outputs": [],
   "source": [
    "from giskard_vision.object_detection.models.wrappers import DetrFinetunedFaceDetectionHuggingFaceModel\n",
    "from giskard_vision.object_detection.dataloaders.loaders import DataLoader300WFaceDetection\n",
    "from pathlib import Path\n",
    "from giskard_vision import scan\n",
    "\n",
    "model = DetrFinetunedFaceDetectionHuggingFaceModel()\n",
    "dataset = DataLoader300WFaceDetection(\n",
    "    dir_path=Path().resolve().parent / \"landmark_detection\" / \"datasets\" / \"300W\" / \"sample\"\n",
    ")\n",
    "\n",
    "results = scan(model=model, dataset=dataset)"
   ]
  }
 ],
 "metadata": {
  "kernelspec": {
   "display_name": "Python 3 (ipykernel)",
   "language": "python",
   "name": "python3"
  },
  "language_info": {
   "codemirror_mode": {
    "name": "ipython",
    "version": 3
   },
   "file_extension": ".py",
   "mimetype": "text/x-python",
   "name": "python",
   "nbconvert_exporter": "python",
   "pygments_lexer": "ipython3",
   "version": "3.10.13"
  }
 },
 "nbformat": 4,
 "nbformat_minor": 5
}
