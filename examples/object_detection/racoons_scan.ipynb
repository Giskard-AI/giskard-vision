{
 "cells": [
  {
   "cell_type": "code",
   "execution_count": null,
   "metadata": {},
   "outputs": [],
   "source": [
    "from giskard_vision.object_detection.models.wrappers import RacoonDetectionModel\n",
    "from giskard_vision.object_detection.dataloaders.loaders import DataLoaderRacoon\n",
    "from giskard_vision import scan\n",
    "\n",
    "model = RacoonDetectionModel(data_path=\"datasets/racoon_detection\")\n",
    "dataset = DataLoaderRacoon(dir_path=\"datasets/racoon_detection\")\n",
    "\n",
    "results = scan(model=model, dataset=dataset)"
   ]
  },
  {
   "cell_type": "code",
   "execution_count": null,
   "metadata": {},
   "outputs": [],
   "source": [
    "from giskard_vision.object_detection.visualisation.draw import draw_boxes\n",
    "\n",
    "draw_boxes(1, dataset, model)"
   ]
  }
 ],
 "metadata": {
  "kernelspec": {
   "display_name": ".venv",
   "language": "python",
   "name": "python3"
  },
  "language_info": {
   "codemirror_mode": {
    "name": "ipython",
    "version": 3
   },
   "file_extension": ".py",
   "mimetype": "text/x-python",
   "name": "python",
   "nbconvert_exporter": "python",
   "pygments_lexer": "ipython3",
   "version": "3.10.13"
  }
 },
 "nbformat": 4,
 "nbformat_minor": 2
}
