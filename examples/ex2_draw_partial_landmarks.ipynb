{
 "cells": [
  {
   "cell_type": "code",
   "execution_count": null,
   "metadata": {
    "collapsed": false,
    "jupyter": {
     "outputs_hidden": false
    }
   },
   "outputs": [],
   "source": [
    "from loreal_poc.dataloaders.loaders import DataLoader300W\n",
    "from loreal_poc.visualisation.draw import draw_marks"
   ]
  },
  {
   "cell_type": "markdown",
   "metadata": {
    "collapsed": false,
    "jupyter": {
     "outputs_hidden": false
    }
   },
   "source": [
    "Benchmark"
   ]
  },
  {
   "cell_type": "code",
   "execution_count": null,
   "metadata": {
    "collapsed": false,
    "jupyter": {
     "outputs_hidden": false
    }
   },
   "outputs": [],
   "source": [
    "ds = DataLoader300W(dir_path=\"300W/sample\")"
   ]
  },
  {
   "cell_type": "markdown",
   "metadata": {
    "collapsed": false,
    "jupyter": {
     "outputs_hidden": false
    }
   },
   "source": [
    "L'Oreal"
   ]
  },
  {
   "cell_type": "code",
   "execution_count": null,
   "metadata": {
    "collapsed": false,
    "jupyter": {
     "outputs_hidden": false
    }
   },
   "outputs": [],
   "source": [
    "from loreal_poc.dataloaders.wrappers import CroppedDataLoader\n",
    "from loreal_poc.marks.facial_parts import FacialParts\n",
    "\n",
    "chosen_idx = 4\n",
    "facial_parts = FacialParts.right_eye + FacialParts.right_eyebrow\n",
    "\n",
    "cropped_ds = CroppedDataLoader(ds, facial_parts, crop_img=False)\n",
    "\n",
    "image, picked_landmarks, meta = cropped_ds[chosen_idx]\n",
    "draw_marks(image, [picked_landmarks], [\"green\"])"
   ]
  },
  {
   "cell_type": "code",
   "execution_count": null,
   "metadata": {},
   "outputs": [],
   "source": [
    "cropped_ds = CroppedDataLoader(ds, facial_parts, crop_img=True)\n",
    "\n",
    "image, picked_landmarks, meta = cropped_ds[chosen_idx]\n",
    "draw_marks(image, [picked_landmarks], [\"green\"])"
   ]
  },
  {
   "cell_type": "code",
   "execution_count": null,
   "metadata": {},
   "outputs": [],
   "source": []
  }
 ],
 "metadata": {
  "kernelspec": {
   "display_name": "Python 3 (ipykernel)",
   "language": "python",
   "name": "python3"
  },
  "language_info": {
   "codemirror_mode": {
    "name": "ipython",
    "version": 3
   },
   "file_extension": ".py",
   "mimetype": "text/x-python",
   "name": "python",
   "nbconvert_exporter": "python",
   "pygments_lexer": "ipython3",
   "version": "3.11.6"
  }
 },
 "nbformat": 4,
 "nbformat_minor": 4
}
