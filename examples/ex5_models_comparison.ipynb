{
 "cells": [
  {
   "cell_type": "code",
   "execution_count": null,
   "metadata": {},
   "outputs": [],
   "source": [
    "# Model comparisons"
   ]
  },
  {
   "cell_type": "code",
   "execution_count": 1,
   "metadata": {},
   "outputs": [],
   "source": [
    "import cv2\n",
    "from face_alignment import FaceAlignment, LandmarksType\n",
    "import os\n",
    "import urllib.request as urlreq\n",
    "\n",
    "from loreal_poc.datasets.dataset_300W import Dataset300W\n",
    "from loreal_poc.models.wrappers import OpenCVWrapper, FaceAlignmentWrapper\n",
    "from loreal_poc.tests.performance import NME_mean\n",
    "from loreal_poc.tests.base import Test, TestDiff"
   ]
  },
  {
   "cell_type": "code",
   "execution_count": 2,
   "metadata": {},
   "outputs": [],
   "source": [
    "ds = Dataset300W(dir_path=\"300W/sample\")\n",
    "chosen_idx = 4\n",
    "image = ds.all_images[chosen_idx]\n",
    "ground_truth_landmarks = ds.all_marks[chosen_idx, :, :]"
   ]
  },
  {
   "cell_type": "code",
   "execution_count": 3,
   "metadata": {},
   "outputs": [
    {
     "name": "stdout",
     "output_type": "stream",
     "text": [
      "File exists\n",
      "File exists\n",
      "loading data from : lbfmodel.yaml\n"
     ]
    }
   ],
   "source": [
    "facealignment_model = FaceAlignmentWrapper(model=FaceAlignment(LandmarksType.TWO_D, device=\"cpu\", flip_input=False))\n",
    "opencv_model = OpenCVWrapper()"
   ]
  },
  {
   "cell_type": "code",
   "execution_count": 17,
   "metadata": {},
   "outputs": [
    {
     "data": {
      "text/html": [
       "\n",
       "               <h4><span style=\"color:green;\">✓</span> Test \"NME_mean\" succeeded</h4>\n",
       "               <p>Description: Mean of normalised mean Euclidean distances across images</p>\n",
       "               <p>Metric: <b>0.0414</b> (threshold = 1)</p>\n",
       "               \n",
       "               <p>Prediction time: 0.48 s.</p>\n",
       "               \n",
       "               "
      ],
      "text/plain": [
       "\n",
       "               Test \"NME_mean\" succeeded\n",
       "               Description: Mean of normalised mean Euclidean distances across images\n",
       "               Metric: 0.0414 (threshold = 1)\n",
       "               \n",
       "               Prediction time: 0.48 s.\n",
       "               \n",
       "               "
      ]
     },
     "execution_count": 17,
     "metadata": {},
     "output_type": "execute_result"
    }
   ],
   "source": [
    "Test(metric=NME_mean, threshold=1).run(model=opencv_model, dataset=ds)"
   ]
  },
  {
   "cell_type": "code",
   "execution_count": 5,
   "metadata": {},
   "outputs": [
    {
     "data": {
      "text/html": [
       "\n",
       "               <h4><span style=\"color:green;\">✓</span> Test \"NME_mean\" succeeded</h4>\n",
       "               <p>Description: Mean of normalised mean Euclidean distances across images</p>\n",
       "               <p>Metric: <b>0.0623</b> (threshold = 1)</p>\n",
       "               \n",
       "               <p>Prediction time: 37.83 s.</p>\n",
       "               \n",
       "               "
      ],
      "text/plain": [
       "\n",
       "               Test \"NME_mean\" succeeded\n",
       "               Description: Mean of normalised mean Euclidean distances across images\n",
       "               Metric: 0.0623 (threshold = 1)\n",
       "               \n",
       "               Prediction time: 37.83 s.\n",
       "               \n",
       "               "
      ]
     },
     "execution_count": 5,
     "metadata": {},
     "output_type": "execute_result"
    }
   ],
   "source": [
    "Test(metric=NME_mean, threshold=1).run(model=facealignment_model, dataset=ds)"
   ]
  },
  {
   "cell_type": "code",
   "execution_count": 8,
   "metadata": {},
   "outputs": [
    {
     "data": {
      "text/html": [
       "\n",
       "               <h4><span style=\"color:green;\">✓</span> Test \"NME_mean\" succeeded</h4>\n",
       "               <p>Description: Mean of normalised mean Euclidean distances across images</p>\n",
       "               <p>Metric: <b>0.7037</b> (threshold = 1)</p>\n",
       "               Prediction fail rate: 0.4\n",
       "               <p>Prediction time: 0.54 s.</p>\n",
       "               <p>Data preprocessing time: 0.15 s.</p>\n",
       "               "
      ],
      "text/plain": [
       "\n",
       "               Test \"NME_mean\" succeeded\n",
       "               Description: Mean of normalised mean Euclidean distances across images\n",
       "               Metric: 0.7037 (threshold = 1)\n",
       "               Prediction fail rate: 0.4\n",
       "               Prediction time: 0.54 s.\n",
       "               Data preprocessing time: 0.15 s.\n",
       "               "
      ]
     },
     "execution_count": 8,
     "metadata": {},
     "output_type": "execute_result"
    }
   ],
   "source": [
    "from loreal_poc.transformation_functions.transformation_functions import crop_based_on_facial_part\n",
    "from loreal_poc.datasets.base import FacialParts\n",
    "\n",
    "facial_part = FacialParts.left_half\n",
    "\n",
    "cropped_ds = crop_based_on_facial_part(ds, facial_part, rel_margin=0.00)\n",
    "\n",
    "TestDiff(metric=NME_mean, threshold=1).run(\n",
    "    model=opencv_model,\n",
    "    dataset=ds,\n",
    "    transformation_function=crop_based_on_facial_part,\n",
    "    transformation_function_kwargs={\"dataset\": ds, \"facial_part\": facial_part, \"rel_margin\": 0.00},\n",
    ")"
   ]
  },
  {
   "cell_type": "code",
   "execution_count": 24,
   "metadata": {},
   "outputs": [
    {
     "name": "stderr",
     "output_type": "stream",
     "text": [
      "/Users/rak/Documents/loreal-poc/.venv/lib/python3.11/site-packages/face_alignment/api.py:147: UserWarning: No faces were detected.\n",
      "  warnings.warn(\"No faces were detected.\")\n"
     ]
    }
   ],
   "source": [
    "from dataclasses import fields\n",
    "\n",
    "results = {\"OpenCV\": {\"model\": opencv_model}, \"FaceAlignment\": {\"model\": facealignment_model}}\n",
    "for model_name, _model in results.items():\n",
    "    model = _model[\"model\"]\n",
    "    for __facial_part in fields(FacialParts):\n",
    "        _facial_part = __facial_part.default\n",
    "        kwargs = {\"dataset\": ds, \"facial_part\": _facial_part, \"rel_margin\": 0.00}\n",
    "        cropped_ds = crop_based_on_facial_part(ds, _facial_part, rel_margin=0.00)\n",
    "        test = TestDiff(metric=NME_mean, threshold=1).run(\n",
    "            model=model,\n",
    "            dataset=ds,\n",
    "            transformation_function=crop_based_on_facial_part,\n",
    "            transformation_function_kwargs=kwargs,\n",
    "        )\n",
    "        results[model_name][_facial_part.name] = test.metric"
   ]
  },
  {
   "cell_type": "code",
   "execution_count": 25,
   "metadata": {},
   "outputs": [
    {
     "data": {
      "text/plain": [
       "{'OpenCV': {'model': <loreal_poc.models.wrappers.OpenCVWrapper at 0x107a092d0>,\n",
       "  'entire face': 0.031593074968095824,\n",
       "  'face contour': 0.9622098511041972,\n",
       "  'left eyebrow': nan,\n",
       "  'right eyebrow': nan,\n",
       "  'nose': nan,\n",
       "  'left eye': nan,\n",
       "  'right eye': nan,\n",
       "  'mouth': nan,\n",
       "  'bottom half': nan,\n",
       "  'upper half': 0.12371467791790752,\n",
       "  'left half': 0.7037441359556575,\n",
       "  'right half': 0.6868418487365847},\n",
       " 'FaceAlignment': {'model': <loreal_poc.models.wrappers.FaceAlignmentWrapper at 0x161415e90>,\n",
       "  'entire face': 0.06824182183674955,\n",
       "  'face contour': 0.662105542984795,\n",
       "  'left eyebrow': nan,\n",
       "  'right eyebrow': nan,\n",
       "  'nose': nan,\n",
       "  'left eye': 0.607967679637122,\n",
       "  'right eye': nan,\n",
       "  'mouth': nan,\n",
       "  'bottom half': 0.09077343744617554,\n",
       "  'upper half': 0.1243827658614352,\n",
       "  'left half': 0.641158345036311,\n",
       "  'right half': 0.30052643001034707}}"
      ]
     },
     "execution_count": 25,
     "metadata": {},
     "output_type": "execute_result"
    }
   ],
   "source": [
    "results"
   ]
  }
 ],
 "metadata": {
  "kernelspec": {
   "display_name": ".venv",
   "language": "python",
   "name": "python3"
  },
  "language_info": {
   "codemirror_mode": {
    "name": "ipython",
    "version": 3
   },
   "file_extension": ".py",
   "mimetype": "text/x-python",
   "name": "python",
   "nbconvert_exporter": "python",
   "pygments_lexer": "ipython3",
   "version": "3.11.6"
  }
 },
 "nbformat": 4,
 "nbformat_minor": 2
}
