{
 "cells": [
  {
   "cell_type": "code",
   "execution_count": 1,
   "metadata": {},
   "outputs": [],
   "source": [
    "# Model comparisons"
   ]
  },
  {
   "cell_type": "code",
   "execution_count": 2,
   "metadata": {},
   "outputs": [],
   "source": [
    "import cv2\n",
    "from face_alignment import FaceAlignment, LandmarksType\n",
    "import os\n",
    "import urllib.request as urlreq\n",
    "\n",
    "from loreal_poc.dataloaders.loaders import DataLoader300W\n",
    "from loreal_poc.dataloaders.wrappers import CroppedDataLoader\n",
    "\n",
    "from loreal_poc.models.wrappers import OpenCVWrapper, FaceAlignmentWrapper\n",
    "from loreal_poc.tests.performance import NMEMean\n",
    "from loreal_poc.tests.base import Test, TestDiff"
   ]
  },
  {
   "cell_type": "code",
   "execution_count": 3,
   "metadata": {},
   "outputs": [],
   "source": [
    "dl = DataLoader300W(dir_path=\"300W/sample\")\n",
    "chosen_idx = 4\n",
    "image, ground_truth_landmarks, _ = dl[chosen_idx]"
   ]
  },
  {
   "cell_type": "code",
   "execution_count": 4,
   "metadata": {},
   "outputs": [
    {
     "data": {
      "text/plain": [
       "'cpu'"
      ]
     },
     "execution_count": 4,
     "metadata": {},
     "output_type": "execute_result"
    }
   ],
   "source": [
    "import torch\n",
    "\n",
    "device = \"cuda\" if torch.cuda.is_available() else \"cpu\"\n",
    "device"
   ]
  },
  {
   "cell_type": "code",
   "execution_count": 5,
   "metadata": {},
   "outputs": [],
   "source": [
    "facealignment_model = FaceAlignmentWrapper(model=FaceAlignment(LandmarksType.TWO_D, device=device, flip_input=False))\n",
    "opencv_model = OpenCVWrapper()"
   ]
  },
  {
   "cell_type": "code",
   "execution_count": 6,
   "metadata": {},
   "outputs": [
    {
     "data": {
      "text/plain": [
       "{'test_name': 'Test',\n",
       " 'metric_name': 'NME_mean',\n",
       " 'metric_value': 0.04136279942306024,\n",
       " 'threshold': 1,\n",
       " 'passed': True,\n",
       " 'facial_part': 'entire face',\n",
       " 'model_name': 'OpenCV',\n",
       " 'dataloader_name': '300W'}"
      ]
     },
     "execution_count": 6,
     "metadata": {},
     "output_type": "execute_result"
    }
   ],
   "source": [
    "test = Test(metric=NMEMean, threshold=1).run(model=opencv_model, dataloader=dl)\n",
    "\n",
    "test.to_dict()"
   ]
  },
  {
   "cell_type": "code",
   "execution_count": 7,
   "metadata": {},
   "outputs": [
    {
     "name": "stderr",
     "output_type": "stream",
     "text": [
      "/Users/bazire/Work/loreal-poc/loreal_poc/tests/performance.py:47: RuntimeWarning: Mean of empty slice\n",
      "  mes = np.nanmean(es, axis=1)\n"
     ]
    },
    {
     "data": {
      "text/plain": [
       "{'test_name': 'TestDiff',\n",
       " 'metric_name': 'NME_mean',\n",
       " 'metric_value': 0.39174846002334746,\n",
       " 'threshold': 1,\n",
       " 'passed': True,\n",
       " 'facial_part': 'left half',\n",
       " 'model_name': 'OpenCV',\n",
       " 'dataloader_name': '300W'}"
      ]
     },
     "execution_count": 7,
     "metadata": {},
     "output_type": "execute_result"
    }
   ],
   "source": [
    "from loreal_poc.marks.facial_parts import FacialParts\n",
    "\n",
    "facial_part = FacialParts.LEFT_HALF.value\n",
    "\n",
    "test_diff = TestDiff(metric=NMEMean, threshold=1).run(\n",
    "    model=opencv_model, dataloader=dl, dataloader_ref=CroppedDataLoader(dl, part=facial_part), facial_part=facial_part\n",
    ")\n",
    "test_diff.to_dict()"
   ]
  },
  {
   "cell_type": "code",
   "execution_count": 8,
   "metadata": {},
   "outputs": [
    {
     "name": "stderr",
     "output_type": "stream",
     "text": [
      "/Users/bazire/Work/loreal-poc/loreal_poc/tests/performance.py:85: RuntimeWarning: Mean of empty slice\n",
      "  return np.nanmean(NMEs.get(prediction_result, marks))\n"
     ]
    }
   ],
   "source": [
    "# from dataclasses import fields\n",
    "def report(models, dataloader, tests, facial_parts):\n",
    "    results = []\n",
    "    for model in models:\n",
    "        # for __facial_part in fields(FacialParts):\n",
    "        #  _facial_part = __facial_part.default\n",
    "        for facial_part in facial_parts:\n",
    "            for test_cls in tests:\n",
    "                test_result = test_cls(metric=NMEMean, threshold=1).run(\n",
    "                    model=model,\n",
    "                    dataloader=CroppedDataLoader(dataloader, part=facial_part),\n",
    "                    dataloader_ref=dl,\n",
    "                    facial_part=facial_part,\n",
    "                )\n",
    "                results.append(test_result.to_dict())\n",
    "    return results\n",
    "\n",
    "\n",
    "report = report([opencv_model], dl, [TestDiff], [FacialParts.BOTTOM_HALF.value, FacialParts.UPPER_HALF.value])"
   ]
  },
  {
   "cell_type": "code",
   "execution_count": 9,
   "metadata": {},
   "outputs": [
    {
     "data": {
      "text/html": [
       "<div>\n",
       "<style scoped>\n",
       "    .dataframe tbody tr th:only-of-type {\n",
       "        vertical-align: middle;\n",
       "    }\n",
       "\n",
       "    .dataframe tbody tr th {\n",
       "        vertical-align: top;\n",
       "    }\n",
       "\n",
       "    .dataframe thead th {\n",
       "        text-align: right;\n",
       "    }\n",
       "</style>\n",
       "<table border=\"1\" class=\"dataframe\">\n",
       "  <thead>\n",
       "    <tr style=\"text-align: right;\">\n",
       "      <th></th>\n",
       "      <th>test_name</th>\n",
       "      <th>metric_name</th>\n",
       "      <th>metric_value</th>\n",
       "      <th>threshold</th>\n",
       "      <th>passed</th>\n",
       "      <th>facial_part</th>\n",
       "      <th>model_name</th>\n",
       "      <th>dataloader_name</th>\n",
       "    </tr>\n",
       "  </thead>\n",
       "  <tbody>\n",
       "    <tr>\n",
       "      <th>0</th>\n",
       "      <td>TestDiff</td>\n",
       "      <td>NME_mean</td>\n",
       "      <td>NaN</td>\n",
       "      <td>1</td>\n",
       "      <td>False</td>\n",
       "      <td>bottom half</td>\n",
       "      <td>OpenCV</td>\n",
       "      <td>300W cropped on bottom half</td>\n",
       "    </tr>\n",
       "    <tr>\n",
       "      <th>1</th>\n",
       "      <td>TestDiff</td>\n",
       "      <td>NME_mean</td>\n",
       "      <td>0.040216</td>\n",
       "      <td>1</td>\n",
       "      <td>True</td>\n",
       "      <td>upper half</td>\n",
       "      <td>OpenCV</td>\n",
       "      <td>300W cropped on upper half</td>\n",
       "    </tr>\n",
       "  </tbody>\n",
       "</table>\n",
       "</div>"
      ],
      "text/plain": [
       "  test_name metric_name  metric_value  threshold  passed  facial_part  \\\n",
       "0  TestDiff    NME_mean           NaN          1   False  bottom half   \n",
       "1  TestDiff    NME_mean      0.040216          1    True   upper half   \n",
       "\n",
       "  model_name              dataloader_name  \n",
       "0     OpenCV  300W cropped on bottom half  \n",
       "1     OpenCV   300W cropped on upper half  "
      ]
     },
     "execution_count": 9,
     "metadata": {},
     "output_type": "execute_result"
    }
   ],
   "source": [
    "import pandas as pd\n",
    "\n",
    "pd.DataFrame(report)"
   ]
  },
  {
   "cell_type": "code",
   "execution_count": null,
   "metadata": {},
   "outputs": [],
   "source": []
  }
 ],
 "metadata": {
  "kernelspec": {
   "display_name": "Python 3 (ipykernel)",
   "language": "python",
   "name": "python3"
  },
  "language_info": {
   "codemirror_mode": {
    "name": "ipython",
    "version": 3
   },
   "file_extension": ".py",
   "mimetype": "text/x-python",
   "name": "python",
   "nbconvert_exporter": "python",
   "pygments_lexer": "ipython3",
   "version": "3.11.6"
  }
 },
 "nbformat": 4,
 "nbformat_minor": 4
}
