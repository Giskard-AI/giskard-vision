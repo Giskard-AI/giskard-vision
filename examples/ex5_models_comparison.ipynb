{
 "cells": [
  {
   "cell_type": "code",
   "execution_count": null,
   "metadata": {},
   "outputs": [],
   "source": [
    "# Model comparisons"
   ]
  },
  {
   "cell_type": "code",
   "execution_count": null,
   "metadata": {},
   "outputs": [],
   "source": [
    "import cv2\n",
    "from face_alignment import FaceAlignment, LandmarksType\n",
    "import os\n",
    "import urllib.request as urlreq\n",
    "\n",
    "from loreal_poc.dataloaders.loaders import DataLoader300W\n",
    "from loreal_poc.dataloaders.wrappers import CroppedDataLoader\n",
    "\n",
    "from loreal_poc.models.wrappers import OpenCVWrapper, FaceAlignmentWrapper\n",
    "from loreal_poc.tests.performance import NMEMean\n",
    "from loreal_poc.tests.base import Test, TestDiff"
   ]
  },
  {
   "cell_type": "code",
   "execution_count": null,
   "metadata": {},
   "outputs": [],
   "source": [
    "dl = DataLoader300W(dir_path=\"300W/sample\")\n",
    "chosen_idx = 4\n",
    "image, ground_truth_landmarks, _ = dl[chosen_idx]"
   ]
  },
  {
   "cell_type": "code",
   "execution_count": null,
   "metadata": {},
   "outputs": [],
   "source": [
    "import torch\n",
    "\n",
    "device = \"cuda\" if torch.cuda.is_available() else \"cpu\"\n",
    "device"
   ]
  },
  {
   "cell_type": "code",
   "execution_count": null,
   "metadata": {},
   "outputs": [],
   "source": [
    "facealignment_model = FaceAlignmentWrapper(model=FaceAlignment(LandmarksType.TWO_D, device=device, flip_input=False))\n",
    "opencv_model = OpenCVWrapper()"
   ]
  },
  {
   "cell_type": "code",
   "execution_count": null,
   "metadata": {},
   "outputs": [],
   "source": [
    "test = Test(metric=NMEMean, threshold=1).run(model=opencv_model, dataloader=dl)\n",
    "\n",
    "test.to_dict()"
   ]
  },
  {
   "cell_type": "code",
   "execution_count": null,
   "metadata": {},
   "outputs": [],
   "source": [
    "from loreal_poc.marks.facial_parts import FacialParts\n",
    "\n",
    "facial_part = FacialParts.left_half\n",
    "\n",
    "test_diff = TestDiff(metric=NMEMean, threshold=1).run(\n",
    "    model=opencv_model, dataloader=dl, dataloader_ref=CroppedDataLoader(dl, part=facial_part), facial_part=facial_part\n",
    ")\n",
    "test_diff.to_dict()"
   ]
  },
  {
   "cell_type": "code",
   "execution_count": null,
   "metadata": {},
   "outputs": [],
   "source": [
    "# from dataclasses import fields\n",
    "def report(models, dataloader, tests, facial_parts):\n",
    "    results = []\n",
    "    for model in models:\n",
    "        # for __facial_part in fields(FacialParts):\n",
    "        #  _facial_part = __facial_part.default\n",
    "        for facial_part in facial_parts:\n",
    "            for test_cls in tests:\n",
    "                test_result = test_cls(metric=NMEMean, threshold=1).run(\n",
    "                    model=model,\n",
    "                    dataloader=CroppedDataLoader(dataloader, part=facial_part),\n",
    "                    dataloader_ref=dl,\n",
    "                    facial_part=facial_part,\n",
    "                )\n",
    "                results.append(test_result.to_dict())\n",
    "    return results\n",
    "\n",
    "\n",
    "report = report([opencv_model], dl, [TestDiff], [FacialParts.bottom_half, FacialParts.upper_half])"
   ]
  },
  {
   "cell_type": "code",
   "execution_count": null,
   "metadata": {},
   "outputs": [],
   "source": [
    "import pandas as pd\n",
    "\n",
    "pd.DataFrame(report)"
   ]
  }
 ],
 "metadata": {
  "kernelspec": {
   "display_name": "Python 3 (ipykernel)",
   "language": "python",
   "name": "python3"
  },
  "language_info": {
   "codemirror_mode": {
    "name": "ipython",
    "version": 3
   },
   "file_extension": ".py",
   "mimetype": "text/x-python",
   "name": "python",
   "nbconvert_exporter": "python",
   "pygments_lexer": "ipython3",
   "version": "3.11.6"
  }
 },
 "nbformat": 4,
 "nbformat_minor": 4
}
