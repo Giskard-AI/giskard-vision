{
 "cells": [
  {
   "cell_type": "code",
   "execution_count": 1,
   "metadata": {},
   "outputs": [],
   "source": [
    "# Model comparisons"
   ]
  },
  {
   "cell_type": "code",
   "execution_count": 2,
   "metadata": {},
   "outputs": [],
   "source": [
    "import cv2\n",
    "from face_alignment import FaceAlignment, LandmarksType\n",
    "import os\n",
    "import urllib.request as urlreq\n",
    "\n",
    "from loreal_poc.dataloaders.loaders import DataLoader300W\n",
    "from loreal_poc.dataloaders.wrappers import CroppedDataLoader\n",
    "\n",
    "from loreal_poc.models.wrappers import OpenCVWrapper, FaceAlignmentWrapper\n",
    "from loreal_poc.tests.performance import NMEMean\n",
    "from loreal_poc.tests.base import Test, TestDiff"
   ]
  },
  {
   "cell_type": "code",
   "execution_count": 3,
   "metadata": {},
   "outputs": [],
   "source": [
    "ds = DataLoader300W(dir_path=\"300W/sample\")\n",
    "chosen_idx = 4\n",
    "image, ground_truth_landmarks = ds[chosen_idx]"
   ]
  },
  {
   "cell_type": "code",
   "execution_count": 4,
   "metadata": {},
   "outputs": [
    {
     "data": {
      "text/plain": [
       "'cuda'"
      ]
     },
     "execution_count": 4,
     "metadata": {},
     "output_type": "execute_result"
    }
   ],
   "source": [
    "import torch\n",
    "\n",
    "device = \"cuda\" if torch.cuda.is_available() else \"cpu\"\n",
    "device"
   ]
  },
  {
   "cell_type": "code",
   "execution_count": 5,
   "metadata": {},
   "outputs": [
    {
     "name": "stdout",
     "output_type": "stream",
     "text": [
      "File exists\n",
      "File exists\n"
     ]
    }
   ],
   "source": [
    "facealignment_model = FaceAlignmentWrapper(model=FaceAlignment(LandmarksType.TWO_D, device=device, flip_input=False))\n",
    "opencv_model = OpenCVWrapper()"
   ]
  },
  {
   "cell_type": "code",
   "execution_count": 6,
   "metadata": {},
   "outputs": [
    {
     "data": {
      "text/html": [
       "\n",
       "               <h4><span style=\"color:green;\">✓</span> Test \"NME_mean\" succeeded</h4>\n",
       "               <p>Description: Mean of normalised mean Euclidean distances across images</p>\n",
       "               <p>Metric: <b>0.0414</b> (threshold = 1)</p>\n",
       "               \n",
       "               <p>Prediction time: 0.61 s.</p>\n",
       "               "
      ],
      "text/plain": [
       "\n",
       "               Test \"NME_mean\" succeeded\n",
       "               Description: Mean of normalised mean Euclidean distances across images\n",
       "               Metric: 0.0414 (threshold = 1)\n",
       "               \n",
       "               Prediction time: 0.61 s.\n",
       "               "
      ]
     },
     "execution_count": 6,
     "metadata": {},
     "output_type": "execute_result"
    }
   ],
   "source": [
    "Test(metric=NMEMean, threshold=1).run(model=opencv_model, dataset=ds)"
   ]
  },
  {
   "cell_type": "code",
   "execution_count": 7,
   "metadata": {},
   "outputs": [
    {
     "data": {
      "text/html": [
       "\n",
       "               <h4><span style=\"color:green;\">✓</span> Test \"NME_mean\" succeeded</h4>\n",
       "               <p>Description: Mean of normalised mean Euclidean distances across images</p>\n",
       "               <p>Metric: <b>0.0623</b> (threshold = 1)</p>\n",
       "               \n",
       "               <p>Prediction time: 25.46 s.</p>\n",
       "               "
      ],
      "text/plain": [
       "\n",
       "               Test \"NME_mean\" succeeded\n",
       "               Description: Mean of normalised mean Euclidean distances across images\n",
       "               Metric: 0.0623 (threshold = 1)\n",
       "               \n",
       "               Prediction time: 25.46 s.\n",
       "               "
      ]
     },
     "execution_count": 7,
     "metadata": {},
     "output_type": "execute_result"
    }
   ],
   "source": [
    "Test(metric=NMEMean, threshold=1).run(model=facealignment_model, dataset=ds)"
   ]
  },
  {
   "cell_type": "code",
   "execution_count": 8,
   "metadata": {},
   "outputs": [
    {
     "name": "stderr",
     "output_type": "stream",
     "text": [
      "/home/bazire/loreal-poc/loreal_poc/tests/performance.py:47: RuntimeWarning: Mean of empty slice\n",
      "  mes = np.nanmean(es, axis=1)\n"
     ]
    },
    {
     "data": {
      "text/html": [
       "\n",
       "               <h4><span style=\"color:green;\">✓</span> Test \"NME_mean\" succeeded</h4>\n",
       "               <p>Description: Mean of normalised mean Euclidean distances across images</p>\n",
       "               <p>Metric: <b>0.6623</b> (threshold = 1)</p>\n",
       "               Prediction fail rate: 0.4\n",
       "               <p>Prediction time: 0.66 s.</p>\n",
       "               "
      ],
      "text/plain": [
       "\n",
       "               Test \"NME_mean\" succeeded\n",
       "               Description: Mean of normalised mean Euclidean distances across images\n",
       "               Metric: 0.6623 (threshold = 1)\n",
       "               Prediction fail rate: 0.4\n",
       "               Prediction time: 0.66 s.\n",
       "               "
      ]
     },
     "execution_count": 8,
     "metadata": {},
     "output_type": "execute_result"
    }
   ],
   "source": [
    "from loreal_poc.marks.facial_parts import FacialParts\n",
    "\n",
    "facial_part = FacialParts.left_half\n",
    "\n",
    "TestDiff(metric=NMEMean, threshold=1).run(\n",
    "    model=opencv_model, dataset_ref=ds, dataset_other=CroppedDataLoader(ds, part=facial_part), facial_part=facial_part\n",
    ")"
   ]
  },
  {
   "cell_type": "code",
   "execution_count": 9,
   "metadata": {},
   "outputs": [
    {
     "name": "stderr",
     "output_type": "stream",
     "text": [
      "/home/bazire/loreal-poc/loreal_poc/tests/performance.py:85: RuntimeWarning: Mean of empty slice\n",
      "  return np.nanmean(NMEs.get(prediction_result, marks))\n",
      "/home/bazire/loreal-poc/.venv/lib/python3.10/site-packages/face_alignment/api.py:147: UserWarning: No faces were detected.\n",
      "  warnings.warn(\"No faces were detected.\")\n"
     ]
    }
   ],
   "source": [
    "from dataclasses import fields\n",
    "\n",
    "results = {\"OpenCV\": {\"model\": opencv_model}, \"FaceAlignment\": {\"model\": facealignment_model}}\n",
    "for model_name, _model in results.items():\n",
    "    model = _model[\"model\"]\n",
    "    for __facial_part in fields(FacialParts):\n",
    "        pr\n",
    "        _facial_part = __facial_part.default\n",
    "        test = TestDiff(metric=NMEMean, threshold=1).run(\n",
    "            model=model,\n",
    "            dataset_ref=ds,\n",
    "            dataset_other=CroppedDataLoader(ds, part=_facial_part),\n",
    "            facial_part=_facial_part,\n",
    "        )\n",
    "        results[model_name][_facial_part.name] = test.metric"
   ]
  },
  {
   "cell_type": "code",
   "execution_count": 10,
   "metadata": {},
   "outputs": [
    {
     "data": {
      "text/plain": [
       "{'OpenCV': {'model': <loreal_poc.models.wrappers.OpenCVWrapper at 0x7f0ac27d8730>,\n",
       "  'entire face': 0.031593074968095824,\n",
       "  'face contour': 0.0524161528719839,\n",
       "  'left eyebrow': nan,\n",
       "  'right eyebrow': nan,\n",
       "  'nose': nan,\n",
       "  'left eye': nan,\n",
       "  'right eye': nan,\n",
       "  'mouth': nan,\n",
       "  'bottom half': nan,\n",
       "  'upper half': 0.04021610184657019,\n",
       "  'left half': 0.662329401666445,\n",
       "  'right half': 0.9675771331137769},\n",
       " 'FaceAlignment': {'model': <loreal_poc.models.wrappers.FaceAlignmentWrapper at 0x7f0ac27db220>,\n",
       "  'entire face': 0.06824182183674955,\n",
       "  'face contour': 0.13120804359950317,\n",
       "  'left eyebrow': nan,\n",
       "  'right eyebrow': nan,\n",
       "  'nose': nan,\n",
       "  'left eye': 2.2704133968712634,\n",
       "  'right eye': nan,\n",
       "  'mouth': nan,\n",
       "  'bottom half': 8.182222629236117e-05,\n",
       "  'upper half': 0.22317472213175207,\n",
       "  'left half': 0.6372027526669263,\n",
       "  'right half': 0.3839864768052418}}"
      ]
     },
     "execution_count": 10,
     "metadata": {},
     "output_type": "execute_result"
    }
   ],
   "source": [
    "results"
   ]
  }
 ],
 "metadata": {
  "kernelspec": {
   "display_name": "Python 3 (ipykernel)",
   "language": "python",
   "name": "python3"
  },
  "language_info": {
   "codemirror_mode": {
    "name": "ipython",
    "version": 3
   },
   "file_extension": ".py",
   "mimetype": "text/x-python",
   "name": "python",
   "nbconvert_exporter": "python",
   "pygments_lexer": "ipython3",
   "version": "3.10.12"
  }
 },
 "nbformat": 4,
 "nbformat_minor": 4
}
