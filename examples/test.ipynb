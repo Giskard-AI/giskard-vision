{
 "cells": [
  {
   "cell_type": "code",
   "execution_count": null,
   "id": "e5d5dfd2-2636-4cc1-81f3-bf03a337115e",
   "metadata": {},
   "outputs": [],
   "source": [
    "from loreal_poc.dataloaders.loaders import DataLoader300W\n",
    "from loreal_poc.dataloaders.wrappers import CroppedDataLoader, CachedDataLoader\n",
    "from loreal_poc.marks.facial_parts import FacialParts\n",
    "from loreal_poc.visualisation.draw import draw_marks"
   ]
  },
  {
   "cell_type": "code",
   "execution_count": null,
   "id": "ec86a36f-d3ae-4063-a9a7-49fd5e4e4ddf",
   "metadata": {},
   "outputs": [],
   "source": [
    "ds = DataLoader300W(dir_path=\"300W/sample\")"
   ]
  },
  {
   "cell_type": "code",
   "execution_count": null,
   "id": "572482da-a6ae-4780-81d0-2163369bda33",
   "metadata": {},
   "outputs": [],
   "source": [
    "image, marks, meta = ds[0]\n",
    "draw_marks(image, [marks], [\"green\"], [True])"
   ]
  },
  {
   "cell_type": "code",
   "execution_count": null,
   "id": "a8594fab-140f-4288-9260-9f2262f4bc90",
   "metadata": {},
   "outputs": [],
   "source": [
    "cropped_ds = CroppedDataLoader(ds, FacialParts.entire)\n",
    "image, marks, meta = cropped_ds[0]\n",
    "draw_marks(image, [marks], [\"green\"], [True])"
   ]
  },
  {
   "cell_type": "code",
   "execution_count": null,
   "id": "e149a371-e6ce-46b8-a078-8a7f57129336",
   "metadata": {},
   "outputs": [],
   "source": [
    "cropped_ds = CroppedDataLoader(ds, FacialParts.left_eye)\n",
    "image, marks, meta = cropped_ds[0]\n",
    "draw_marks(image, [marks], [\"green\"], [True])"
   ]
  },
  {
   "cell_type": "code",
   "execution_count": null,
   "id": "54d71084-e172-48c1-8817-f72e6fff0b05",
   "metadata": {},
   "outputs": [],
   "source": [
    "cropped_ds = CroppedDataLoader(ds, FacialParts.left_eye, crop_img=False)\n",
    "image, marks, meta = cropped_ds[0]\n",
    "draw_marks(image, [marks], [\"green\"], [True])"
   ]
  },
  {
   "cell_type": "code",
   "execution_count": null,
   "id": "fbfe9259-c6fb-4173-843a-9bb213813bc7",
   "metadata": {},
   "outputs": [],
   "source": [
    "cropped_ds = CroppedDataLoader(ds, FacialParts.left_eye, crop_marks=False)\n",
    "image, marks, meta = cropped_ds[0]\n",
    "draw_marks(image, [marks], [\"green\"], [True])"
   ]
  },
  {
   "cell_type": "code",
   "execution_count": null,
   "id": "f711e6a6-f7d1-4338-af21-15f56b42ee42",
   "metadata": {},
   "outputs": [],
   "source": [
    "#%%timeit\n",
    "dataset = CroppedDataLoader(ds, FacialParts.left_eye)\n",
    "[elt for elt in dataset]"
   ]
  },
  {
   "cell_type": "code",
   "execution_count": null,
   "id": "ce625ddb-121a-4367-8fa8-92ac8a71f496",
   "metadata": {},
   "outputs": [],
   "source": [
    "#%%timeit\n",
    "dataset = CroppedDataLoader(ds, FacialParts.left_eye)\n",
    "[elt for elt in dataset]\n",
    "[elt for elt in dataset]\n",
    "[elt for elt in dataset]\n",
    "[elt for elt in dataset]"
   ]
  },
  {
   "cell_type": "code",
   "execution_count": null,
   "id": "a4271e5a-982b-4d89-b318-9fc26c827889",
   "metadata": {},
   "outputs": [],
   "source": [
    "#%%timeit\n",
    "dataset = CachedDataLoader(CroppedDataLoader(ds, FacialParts.left_eye))\n",
    "[elt for elt in dataset]\n",
    "[elt for elt in dataset]\n",
    "[elt for elt in dataset]\n",
    "[elt for elt in dataset]"
   ]
  },
  {
   "cell_type": "code",
   "execution_count": null,
   "id": "874aaa22-3d93-4a73-81c9-127ff7761ff8",
   "metadata": {},
   "outputs": [],
   "source": []
  }
 ],
 "metadata": {
  "kernelspec": {
   "display_name": "Python 3 (ipykernel)",
   "language": "python",
   "name": "python3"
  },
  "language_info": {
   "codemirror_mode": {
    "name": "ipython",
    "version": 3
   },
   "file_extension": ".py",
   "mimetype": "text/x-python",
   "name": "python",
   "nbconvert_exporter": "python",
   "pygments_lexer": "ipython3",
   "version": "3.11.6"
  }
 },
 "nbformat": 4,
 "nbformat_minor": 5
}
